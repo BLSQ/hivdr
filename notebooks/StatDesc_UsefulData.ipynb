{
 "cells": [
  {
   "cell_type": "code",
   "execution_count": 1,
   "metadata": {},
   "outputs": [],
   "source": [
    "import bluesquare_data_pipelines.access as blsq\n",
    "import pandas as pd\n",
    "import matplotlib.pyplot as plt\n",
    "import numpy as np\n",
    "import seaborn as sns"
   ]
  },
  {
   "cell_type": "code",
   "execution_count": 2,
   "metadata": {},
   "outputs": [
    {
     "name": "stderr",
     "output_type": "stream",
     "text": [
      "/anaconda3/envs/bsqvenv/lib/python3.7/site-packages/IPython/core/interactiveshell.py:3049: DtypeWarning: Columns (0) have mixed types. Specify dtype option on import or set low_memory=False.\n",
      "  interactivity=interactivity, compiler=compiler, result=result)\n"
     ]
    }
   ],
   "source": [
    "hivdr_de = pd.read_csv(\"../data/processed/hivdr_de_mapping.csv\", sep=';')\n",
    "iap_covariates = pd.read_csv(\"../data/processed/iap_covariates.csv\")\n",
    "iap_matched = pd.read_csv(\"../data/processed/iap_fosa_matched.csv\")\n",
    "iap_matched = iap_matched.dropna()"
   ]
  },
  {
   "cell_type": "code",
   "execution_count": 3,
   "metadata": {},
   "outputs": [],
   "source": [
    "labelled_covariates = iap_covariates.merge(hivdr_de)\n",
    "full_data = labelled_covariates.merge(iap_matched, left_on = \"uidorgunit\", right_on = \"fosa_id\")\n",
    "full_data = full_data[['monthly', 'quarterly', 'dataelementname', 'catcomboname','population', \n",
    "                       'action', 'sub_population', 'province', 'fosa','value']]"
   ]
  },
  {
   "cell_type": "code",
   "execution_count": 4,
   "metadata": {},
   "outputs": [],
   "source": [
    "def make_sum(data):\n",
    "    if data.value.iloc[0] in [\"true\", \"false\"]:\n",
    "        out = pd.DataFrame.from_dict({\"value\":[data.value.iloc[0]]})\n",
    "    else :\n",
    "        data.value = data.value.astype(float)\n",
    "        out = pd.DataFrame.from_dict({\"value\":[data.value.sum()]})\n",
    "    return out\n",
    "\n",
    "full_data = full_data.groupby([\"province\",\"fosa\",\"monthly\",\"quarterly\", \"population\",\"action\",\"sub_population\",\"dataelementname\"]).apply(make_sum)"
   ]
  },
  {
   "cell_type": "code",
   "execution_count": 5,
   "metadata": {},
   "outputs": [],
   "source": [
    "full_data = full_data.reset_index().drop(\"level_8\", 1)\n",
    "full_data[\"standard_de\"] = full_data[\"population\"] + \"_\" + full_data[\"action\"]  + \"_\" + full_data[\"sub_population\"]"
   ]
  },
  {
   "cell_type": "code",
   "execution_count": 6,
   "metadata": {},
   "outputs": [],
   "source": [
    "useful_variables = full_data[~(full_data.population == \"vih_positive\") &  \n",
    "                             ~(full_data.action.str.contains(\"tb|cv|_ist|dead|cotrim|nut|treatment_supplement|no_treatment_response|counciled_tested\")) &\n",
    "                             ~(full_data.sub_population.str.contains(\"soutien\"))]"
   ]
  },
  {
   "cell_type": "code",
   "execution_count": 7,
   "metadata": {},
   "outputs": [
    {
     "data": {
      "text/plain": [
       "18196"
      ]
     },
     "execution_count": 7,
     "metadata": {},
     "output_type": "execute_result"
    }
   ],
   "source": [
    "len(useful_variables)"
   ]
  },
  {
   "cell_type": "code",
   "execution_count": 18,
   "metadata": {},
   "outputs": [
    {
     "data": {
      "text/plain": [
       "76"
      ]
     },
     "execution_count": 18,
     "metadata": {},
     "output_type": "execute_result"
    }
   ],
   "source": [
    "len(useful_variables.fosa.unique().tolist())"
   ]
  },
  {
   "cell_type": "code",
   "execution_count": 8,
   "metadata": {},
   "outputs": [],
   "source": [
    "treat_scheme = [\"azt_3tc_lpv_r\",\"tdf_ftc_nvp\",\"abc_3tc_nvp\",\"abc_3tc_efv\",\"azt_3tc_efv\",\"tdf_3tc_efv\",\n",
    "                \"tdf_3tc_nvp\",\"tdf_3tc_lpv_r\",\"tdf_ftc_efv\",\"azt_3tc_nvp\",\"abc_3tc_lpv_r\",\"tdf_ftc_lpv_r\"]\n",
    "\n",
    "treatments = useful_variables[useful_variables.sub_population.isin(treat_scheme)]\n",
    "treatments_fu = treatments.groupby([\"province\",\"fosa\",\"monthly\",\"sub_population\"]).value.sum().reset_index()\n",
    "treatments_fu[\"line\"] = 'first_line'\n",
    "treatments_fu.loc[treatments_fu.sub_population.str.contains(\"lpv\"),\"line\"] = \"second_line\"\n",
    "line_fu = treatments_fu.groupby([\"province\",\"fosa\",\"line\"]).value.mean().reset_index()\n",
    "line_fu = line_fu.set_index([\"province\",\"fosa\"]).pivot(columns = \"line\")[\"value\"].reset_index()"
   ]
  },
  {
   "cell_type": "code",
   "execution_count": 9,
   "metadata": {},
   "outputs": [
    {
     "data": {
      "text/plain": [
       "76"
      ]
     },
     "execution_count": 9,
     "metadata": {},
     "output_type": "execute_result"
    }
   ],
   "source": [
    "len(line_fu)"
   ]
  },
  {
   "cell_type": "code",
   "execution_count": 10,
   "metadata": {},
   "outputs": [
    {
     "name": "stderr",
     "output_type": "stream",
     "text": [
      "/anaconda3/envs/bsqvenv/lib/python3.7/site-packages/pandas/core/generic.py:5096: SettingWithCopyWarning: \n",
      "A value is trying to be set on a copy of a slice from a DataFrame.\n",
      "Try using .loc[row_indexer,col_indexer] = value instead\n",
      "\n",
      "See the caveats in the documentation: http://pandas.pydata.org/pandas-docs/stable/indexing.html#indexing-view-versus-copy\n",
      "  self[name] = value\n"
     ]
    }
   ],
   "source": [
    "pdv_data = useful_variables[(useful_variables.action == \"pdv\")]\n",
    "pdv_data.value = pd.to_numeric(pdv_data.value)\n",
    "pdv_data = pdv_data.groupby([\"province\",\"fosa\"]).value.mean().reset_index()\n",
    "pdv_data.columns = [\"province\", \"fosa\", \"n_pdv\"]"
   ]
  },
  {
   "cell_type": "code",
   "execution_count": 11,
   "metadata": {},
   "outputs": [
    {
     "name": "stdout",
     "output_type": "stream",
     "text": [
      "          province               fosa       n_pdv\n",
      "0     haut katanga     camp kamalondo    0.000000\n",
      "1     haut katanga       hgr kapolowe    0.031250\n",
      "2     haut katanga         hgr katuba    0.000000\n",
      "3     haut katanga        hgr kisanga    0.000000\n",
      "4            ituri        ch rwankole    1.000000\n",
      "5            ituri          hgr bunia    3.153846\n",
      "6            ituri           hgr nizi    5.444444\n",
      "7    kasai central      hgr mikalayi     3.800000\n",
      "8    kasai central       hgr tshikaji    0.266667\n",
      "9   kasai oriental        hgr dibindi    2.333333\n",
      "10  kasai oriental        hgr bonzola    0.285714\n",
      "11  kasai oriental        hgr dipumba   16.000000\n",
      "12  kasai oriental       hgr kansele     3.692308\n",
      "13        kinshasa          ch kikimi    1.363636\n",
      "14        kinshasa           cs bomoi    6.000000\n",
      "15        kinshasa          cs bomoto  117.943396\n",
      "16        kinshasa          cs esengo   27.000000\n",
      "17        kinshasa       hgr kintambo    4.583333\n",
      "18        kinshasa         hgr kokolo    0.222222\n",
      "19        kinshasa         hgr makala    2.478261\n",
      "20        kinshasa        hp kimbondo   10.642857\n",
      "21        kinshasa        ist matonge    5.640000\n",
      "22   kongo central          csr mvuzi    4.500000\n",
      "23   kongo central           hgr boma    3.121951\n",
      "24   kongo central         hgr kiamvu   10.411765\n",
      "25   kongo central       hgr kinkanda    4.636364\n",
      "26   kongo central    hgr nsona nkulu    3.000000\n",
      "27          kwango        cs barriere    0.000000\n",
      "28          kwango          hgr kenge    0.000000\n",
      "29           kwilu       hgr bandundu    0.000000\n",
      "..             ...                ...         ...\n",
      "33         lualaba           cs neema    0.068966\n",
      "34         maniema        ch kitulizo    2.500000\n",
      "35         maniema      csr kinkungwa    2.300000\n",
      "36         maniema       hgr alunguli    0.125000\n",
      "37         maniema          hgr kailo    0.571429\n",
      "38         maniema         hgr kalima    7.625000\n",
      "39         maniema        hgr kampene   67.000000\n",
      "40         maniema          hgr kindu    0.000000\n",
      "41         maniema         hp kasongo    7.666667\n",
      "42       nord kivu        cs mugunga     1.333333\n",
      "43       nord kivu          cs murara    2.000000\n",
      "44       nord kivu           hgr beni    2.666667\n",
      "45       nord kivu         hgr katwa     0.000000\n",
      "46       nord kivu        hgr oicha      3.750000\n",
      "47         sankuru  ch saint francois   16.500000\n",
      "48         sankuru          hgr lodja    2.333333\n",
      "49        sud kivu        hgr kadutu   135.500000\n",
      "50        sud kivu       hgr kasenga     1.250000\n",
      "51        sud kivu         hgr panzi     3.000000\n",
      "52        sud kivu         hgr uvira    61.666667\n",
      "53      sud ubangi         cs mopela     1.272727\n",
      "54      sud ubangi        cs bodeme.     7.472222\n",
      "55      tanganyika       hgr kalemie     0.036364\n",
      "56          tshopo          csr foyer    5.500000\n",
      "57          tshopo         csr matete    1.766667\n",
      "58          tshopo        hgr kabondo   27.674419\n",
      "59          tshopo        hgr lubunga    2.081967\n",
      "60          tshopo        hgr makiso     0.000000\n",
      "61          tshopo        hgr mangobo    4.000000\n",
      "62          tshopo         hgr tshopo    1.962963\n",
      "\n",
      "[63 rows x 3 columns]\n"
     ]
    }
   ],
   "source": [
    "print(pdv_data) # \"losing\" 13 fosas"
   ]
  },
  {
   "cell_type": "code",
   "execution_count": 12,
   "metadata": {},
   "outputs": [],
   "source": [
    "pvvih_data = useful_variables[(useful_variables.population == \"pvvih\") & (useful_variables.action == \"enrolled_hiv_services\")]\n",
    "pvvih_data.value = pd.to_numeric(pvvih_data.value)\n",
    "pvvih_data = pvvih_data.groupby([\"province\",\"fosa\"]).value.mean().reset_index()\n",
    "pvvih_data.columns = [\"province\", \"fosa\", \"n_pvvih\"]"
   ]
  },
  {
   "cell_type": "code",
   "execution_count": 13,
   "metadata": {},
   "outputs": [
    {
     "data": {
      "text/plain": [
       "66"
      ]
     },
     "execution_count": 13,
     "metadata": {},
     "output_type": "execute_result"
    }
   ],
   "source": [
    "len(pvvih_data) # losing 10 fosas"
   ]
  },
  {
   "cell_type": "code",
   "execution_count": 14,
   "metadata": {},
   "outputs": [],
   "source": [
    "stock_out_data = useful_variables[useful_variables.action == \"rupture_stock_mois\"]\n",
    "def stock_out_prob(data):    \n",
    "    return sum(data == \"true\") / len(data)\n",
    "\n",
    "\n",
    "stock_out_data = stock_out_data.groupby([\"province\",\"fosa\"]).value.apply(stock_out_prob).reset_index()\n",
    "stock_out_data.columns = [\"province\", \"fosa\", \"stockout_perc\"]"
   ]
  },
  {
   "cell_type": "code",
   "execution_count": 19,
   "metadata": {},
   "outputs": [
    {
     "data": {
      "text/plain": [
       "76"
      ]
     },
     "execution_count": 19,
     "metadata": {},
     "output_type": "execute_result"
    }
   ],
   "source": [
    "len(stock_out_data)"
   ]
  },
  {
   "cell_type": "code",
   "execution_count": 15,
   "metadata": {},
   "outputs": [],
   "source": [
    "cmm_data = useful_variables[useful_variables.action == \"cmm_mois\"]\n",
    "\n",
    "cmm_data = cmm_data.groupby([\"province\",\"fosa\",\"monthly\"]).value.sum().reset_index().groupby([\"province\",\"fosa\"]).value.sum().reset_index()\n",
    "cmm_data.columns = [\"province\", \"fosa\", \"cmm\"]"
   ]
  },
  {
   "cell_type": "code",
   "execution_count": 20,
   "metadata": {},
   "outputs": [
    {
     "data": {
      "text/plain": [
       "76"
      ]
     },
     "execution_count": 20,
     "metadata": {},
     "output_type": "execute_result"
    }
   ],
   "source": [
    "len(cmm_data)"
   ]
  },
  {
   "cell_type": "code",
   "execution_count": 34,
   "metadata": {},
   "outputs": [
    {
     "name": "stdout",
     "output_type": "stream",
     "text": [
      "63\n"
     ]
    }
   ],
   "source": [
    "covariables = cmm_data.merge(stock_out_data).merge(line_fu).merge(pdv_data)#.merge(pvvih_data)#.merge(pdv_data)#.merge(line_fu\n",
    "print(len(covariables))"
   ]
  },
  {
   "cell_type": "code",
   "execution_count": 35,
   "metadata": {},
   "outputs": [
    {
     "data": {
      "text/html": [
       "<div>\n",
       "<style scoped>\n",
       "    .dataframe tbody tr th:only-of-type {\n",
       "        vertical-align: middle;\n",
       "    }\n",
       "\n",
       "    .dataframe tbody tr th {\n",
       "        vertical-align: top;\n",
       "    }\n",
       "\n",
       "    .dataframe thead th {\n",
       "        text-align: right;\n",
       "    }\n",
       "</style>\n",
       "<table border=\"1\" class=\"dataframe\">\n",
       "  <thead>\n",
       "    <tr style=\"text-align: right;\">\n",
       "      <th></th>\n",
       "      <th>province</th>\n",
       "      <th>fosa</th>\n",
       "      <th>cmm</th>\n",
       "      <th>stockout_perc</th>\n",
       "      <th>first_line</th>\n",
       "      <th>second_line</th>\n",
       "      <th>n_pdv</th>\n",
       "      <th>n_pvvih</th>\n",
       "    </tr>\n",
       "  </thead>\n",
       "  <tbody>\n",
       "    <tr>\n",
       "      <th>0</th>\n",
       "      <td>haut katanga</td>\n",
       "      <td>camp kamalondo</td>\n",
       "      <td>1.000000</td>\n",
       "      <td>0.000000</td>\n",
       "      <td>7.916667</td>\n",
       "      <td>0.250000</td>\n",
       "      <td>0.000000</td>\n",
       "      <td>48.026316</td>\n",
       "    </tr>\n",
       "    <tr>\n",
       "      <th>1</th>\n",
       "      <td>haut katanga</td>\n",
       "      <td>hgr kapolowe</td>\n",
       "      <td>784.197368</td>\n",
       "      <td>0.037037</td>\n",
       "      <td>18.250000</td>\n",
       "      <td>0.000000</td>\n",
       "      <td>0.031250</td>\n",
       "      <td>157.250000</td>\n",
       "    </tr>\n",
       "    <tr>\n",
       "      <th>2</th>\n",
       "      <td>haut katanga</td>\n",
       "      <td>hgr katuba</td>\n",
       "      <td>4.500000</td>\n",
       "      <td>0.000000</td>\n",
       "      <td>42.000000</td>\n",
       "      <td>1.333333</td>\n",
       "      <td>0.000000</td>\n",
       "      <td>626.523810</td>\n",
       "    </tr>\n",
       "    <tr>\n",
       "      <th>3</th>\n",
       "      <td>haut katanga</td>\n",
       "      <td>hgr kisanga</td>\n",
       "      <td>24.750000</td>\n",
       "      <td>0.000000</td>\n",
       "      <td>15.750000</td>\n",
       "      <td>0.000000</td>\n",
       "      <td>0.000000</td>\n",
       "      <td>98.875000</td>\n",
       "    </tr>\n",
       "    <tr>\n",
       "      <th>4</th>\n",
       "      <td>ituri</td>\n",
       "      <td>ch rwankole</td>\n",
       "      <td>403.366667</td>\n",
       "      <td>0.000000</td>\n",
       "      <td>14.041667</td>\n",
       "      <td>0.000000</td>\n",
       "      <td>1.000000</td>\n",
       "      <td>113.187500</td>\n",
       "    </tr>\n",
       "    <tr>\n",
       "      <th>5</th>\n",
       "      <td>ituri</td>\n",
       "      <td>hgr bunia</td>\n",
       "      <td>1231.666667</td>\n",
       "      <td>0.518519</td>\n",
       "      <td>141.666667</td>\n",
       "      <td>0.250000</td>\n",
       "      <td>3.153846</td>\n",
       "      <td>788.259259</td>\n",
       "    </tr>\n",
       "    <tr>\n",
       "      <th>6</th>\n",
       "      <td>ituri</td>\n",
       "      <td>hgr nizi</td>\n",
       "      <td>240.000000</td>\n",
       "      <td>0.037037</td>\n",
       "      <td>8.583333</td>\n",
       "      <td>0.166667</td>\n",
       "      <td>5.444444</td>\n",
       "      <td>232.250000</td>\n",
       "    </tr>\n",
       "    <tr>\n",
       "      <th>7</th>\n",
       "      <td>kasai central</td>\n",
       "      <td>hgr mikalayi</td>\n",
       "      <td>600.000000</td>\n",
       "      <td>0.000000</td>\n",
       "      <td>10.750000</td>\n",
       "      <td>0.000000</td>\n",
       "      <td>3.800000</td>\n",
       "      <td>73.526316</td>\n",
       "    </tr>\n",
       "    <tr>\n",
       "      <th>8</th>\n",
       "      <td>kasai central</td>\n",
       "      <td>hgr tshikaji</td>\n",
       "      <td>6900.000000</td>\n",
       "      <td>0.000000</td>\n",
       "      <td>4.416667</td>\n",
       "      <td>0.000000</td>\n",
       "      <td>0.266667</td>\n",
       "      <td>44.722222</td>\n",
       "    </tr>\n",
       "    <tr>\n",
       "      <th>9</th>\n",
       "      <td>kasai oriental</td>\n",
       "      <td>hgr dibindi</td>\n",
       "      <td>17233.833333</td>\n",
       "      <td>0.000000</td>\n",
       "      <td>73.000000</td>\n",
       "      <td>7.416667</td>\n",
       "      <td>2.333333</td>\n",
       "      <td>479.521739</td>\n",
       "    </tr>\n",
       "    <tr>\n",
       "      <th>10</th>\n",
       "      <td>kasai oriental</td>\n",
       "      <td>hgr bonzola</td>\n",
       "      <td>1185.720227</td>\n",
       "      <td>0.592593</td>\n",
       "      <td>42.000000</td>\n",
       "      <td>0.083333</td>\n",
       "      <td>0.285714</td>\n",
       "      <td>946.297872</td>\n",
       "    </tr>\n",
       "    <tr>\n",
       "      <th>11</th>\n",
       "      <td>kasai oriental</td>\n",
       "      <td>hgr dipumba</td>\n",
       "      <td>676.000000</td>\n",
       "      <td>0.000000</td>\n",
       "      <td>68.166667</td>\n",
       "      <td>19.166667</td>\n",
       "      <td>16.000000</td>\n",
       "      <td>1175.263158</td>\n",
       "    </tr>\n",
       "    <tr>\n",
       "      <th>12</th>\n",
       "      <td>kasai oriental</td>\n",
       "      <td>hgr kansele</td>\n",
       "      <td>2593.985667</td>\n",
       "      <td>0.333333</td>\n",
       "      <td>117.916667</td>\n",
       "      <td>0.000000</td>\n",
       "      <td>3.692308</td>\n",
       "      <td>755.777778</td>\n",
       "    </tr>\n",
       "    <tr>\n",
       "      <th>13</th>\n",
       "      <td>kinshasa</td>\n",
       "      <td>ch kikimi</td>\n",
       "      <td>174.450000</td>\n",
       "      <td>0.000000</td>\n",
       "      <td>29.083333</td>\n",
       "      <td>1.750000</td>\n",
       "      <td>1.363636</td>\n",
       "      <td>197.800000</td>\n",
       "    </tr>\n",
       "    <tr>\n",
       "      <th>14</th>\n",
       "      <td>kinshasa</td>\n",
       "      <td>cs bomoi</td>\n",
       "      <td>8381.450000</td>\n",
       "      <td>0.000000</td>\n",
       "      <td>116.416667</td>\n",
       "      <td>12.000000</td>\n",
       "      <td>6.000000</td>\n",
       "      <td>1464.944444</td>\n",
       "    </tr>\n",
       "    <tr>\n",
       "      <th>15</th>\n",
       "      <td>kinshasa</td>\n",
       "      <td>cs bomoto</td>\n",
       "      <td>115.521392</td>\n",
       "      <td>0.592593</td>\n",
       "      <td>69.708333</td>\n",
       "      <td>6.916667</td>\n",
       "      <td>117.943396</td>\n",
       "      <td>949.050000</td>\n",
       "    </tr>\n",
       "    <tr>\n",
       "      <th>16</th>\n",
       "      <td>kinshasa</td>\n",
       "      <td>cs esengo</td>\n",
       "      <td>32.666667</td>\n",
       "      <td>0.000000</td>\n",
       "      <td>78.833333</td>\n",
       "      <td>13.000000</td>\n",
       "      <td>27.000000</td>\n",
       "      <td>623.973684</td>\n",
       "    </tr>\n",
       "    <tr>\n",
       "      <th>17</th>\n",
       "      <td>kinshasa</td>\n",
       "      <td>hgr kintambo</td>\n",
       "      <td>828.616667</td>\n",
       "      <td>0.518519</td>\n",
       "      <td>86.166667</td>\n",
       "      <td>5.166667</td>\n",
       "      <td>4.583333</td>\n",
       "      <td>749.066667</td>\n",
       "    </tr>\n",
       "    <tr>\n",
       "      <th>18</th>\n",
       "      <td>kinshasa</td>\n",
       "      <td>hgr kokolo</td>\n",
       "      <td>39.450000</td>\n",
       "      <td>0.000000</td>\n",
       "      <td>65.625000</td>\n",
       "      <td>2.166667</td>\n",
       "      <td>0.222222</td>\n",
       "      <td>466.190476</td>\n",
       "    </tr>\n",
       "    <tr>\n",
       "      <th>19</th>\n",
       "      <td>kinshasa</td>\n",
       "      <td>hgr makala</td>\n",
       "      <td>0.000000</td>\n",
       "      <td>0.000000</td>\n",
       "      <td>14.000000</td>\n",
       "      <td>0.000000</td>\n",
       "      <td>2.478261</td>\n",
       "      <td>174.217391</td>\n",
       "    </tr>\n",
       "  </tbody>\n",
       "</table>\n",
       "</div>"
      ],
      "text/plain": [
       "          province            fosa           cmm  stockout_perc  first_line  \\\n",
       "0     haut katanga  camp kamalondo      1.000000       0.000000    7.916667   \n",
       "1     haut katanga    hgr kapolowe    784.197368       0.037037   18.250000   \n",
       "2     haut katanga      hgr katuba      4.500000       0.000000   42.000000   \n",
       "3     haut katanga     hgr kisanga     24.750000       0.000000   15.750000   \n",
       "4            ituri     ch rwankole    403.366667       0.000000   14.041667   \n",
       "5            ituri       hgr bunia   1231.666667       0.518519  141.666667   \n",
       "6            ituri        hgr nizi    240.000000       0.037037    8.583333   \n",
       "7    kasai central   hgr mikalayi     600.000000       0.000000   10.750000   \n",
       "8    kasai central    hgr tshikaji   6900.000000       0.000000    4.416667   \n",
       "9   kasai oriental     hgr dibindi  17233.833333       0.000000   73.000000   \n",
       "10  kasai oriental     hgr bonzola   1185.720227       0.592593   42.000000   \n",
       "11  kasai oriental     hgr dipumba    676.000000       0.000000   68.166667   \n",
       "12  kasai oriental    hgr kansele    2593.985667       0.333333  117.916667   \n",
       "13        kinshasa       ch kikimi    174.450000       0.000000   29.083333   \n",
       "14        kinshasa        cs bomoi   8381.450000       0.000000  116.416667   \n",
       "15        kinshasa       cs bomoto    115.521392       0.592593   69.708333   \n",
       "16        kinshasa       cs esengo     32.666667       0.000000   78.833333   \n",
       "17        kinshasa    hgr kintambo    828.616667       0.518519   86.166667   \n",
       "18        kinshasa      hgr kokolo     39.450000       0.000000   65.625000   \n",
       "19        kinshasa      hgr makala      0.000000       0.000000   14.000000   \n",
       "\n",
       "    second_line       n_pdv      n_pvvih  \n",
       "0      0.250000    0.000000    48.026316  \n",
       "1      0.000000    0.031250   157.250000  \n",
       "2      1.333333    0.000000   626.523810  \n",
       "3      0.000000    0.000000    98.875000  \n",
       "4      0.000000    1.000000   113.187500  \n",
       "5      0.250000    3.153846   788.259259  \n",
       "6      0.166667    5.444444   232.250000  \n",
       "7      0.000000    3.800000    73.526316  \n",
       "8      0.000000    0.266667    44.722222  \n",
       "9      7.416667    2.333333   479.521739  \n",
       "10     0.083333    0.285714   946.297872  \n",
       "11    19.166667   16.000000  1175.263158  \n",
       "12     0.000000    3.692308   755.777778  \n",
       "13     1.750000    1.363636   197.800000  \n",
       "14    12.000000    6.000000  1464.944444  \n",
       "15     6.916667  117.943396   949.050000  \n",
       "16    13.000000   27.000000   623.973684  \n",
       "17     5.166667    4.583333   749.066667  \n",
       "18     2.166667    0.222222   466.190476  \n",
       "19     0.000000    2.478261   174.217391  "
      ]
     },
     "execution_count": 35,
     "metadata": {},
     "output_type": "execute_result"
    }
   ],
   "source": [
    "#covariables.head(n=20)"
   ]
  },
  {
   "cell_type": "code",
   "execution_count": 68,
   "metadata": {},
   "outputs": [],
   "source": [
    "covariables_tot = cmm_data.merge(stock_out_data, how = 'outer').merge(line_fu, how = 'outer').merge(pdv_data, how = 'outer').merge(pvvih_data, how = 'outer').merge(pdv_data, how = 'outer').merge(line_fu, how = 'outer')\n",
    "#covariables_tot.head(n=20)\n",
    "covariables_tot['adminid'] = covariables_tot.province.astype(str).str[-4:]\n",
    "covariables_tot = covariables_tot.reset_index()"
   ]
  },
  {
   "cell_type": "code",
   "execution_count": 42,
   "metadata": {},
   "outputs": [
    {
     "data": {
      "text/plain": [
       "<matplotlib.axes._subplots.AxesSubplot at 0x1a1cb8e5f8>"
      ]
     },
     "execution_count": 42,
     "metadata": {},
     "output_type": "execute_result"
    },
    {
     "data": {
      "image/png": "[encoded data removed]",
      "text/plain": [
       "<Figure size 1800x720 with 2 Axes>"
      ]
     },
     "metadata": {
      "needs_background": "light"
     },
     "output_type": "display_data"
    }
   ],
   "source": [
    "import missingno as msno\n",
    "%matplotlib inline\n",
    "msno.matrix(covariables_tot)"
   ]
  },
  {
   "cell_type": "code",
   "execution_count": null,
   "metadata": {},
   "outputs": [],
   "source": [
    "msno.geoplot(covariables_tot, x='LONGITUDE', y='LATITUDE', by='ZIP CODE')"
   ]
  },
  {
   "cell_type": "code",
   "execution_count": 49,
   "metadata": {},
   "outputs": [
    {
     "data": {
      "text/plain": [
       "'/Users/allorant/bluesquare/repo/hivdr/notebooks'"
      ]
     },
     "execution_count": 49,
     "metadata": {},
     "output_type": "execute_result"
    }
   ],
   "source": [
    "import os\n",
    "os.getcwd()\n",
    "\n"
   ]
  },
  {
   "cell_type": "code",
   "execution_count": 69,
   "metadata": {},
   "outputs": [],
   "source": [
    "import geopandas as gpd\n",
    "shapefile = gpd.read_file(\"../data/ZAI.shp\")\n",
    "shapefile['adminid'] = shapefile.loc[:,'ADM1'].str.lower().astype(str).str[-4:]\n",
    "shapefile = shapefile.reset_index()"
   ]
  },
  {
   "cell_type": "code",
   "execution_count": 84,
   "metadata": {},
   "outputs": [],
   "source": [
    "shape_data = shapefile.merge(covariables_tot, on = 'adminid', how = \"outer\")\n",
    "shape_data['NumberMissing']=shape_data.isnull().sum(axis=1)"
   ]
  },
  {
   "cell_type": "code",
   "execution_count": 94,
   "metadata": {},
   "outputs": [
    {
     "data": {
      "text/plain": [
       "<matplotlib.axes._subplots.AxesSubplot at 0x1a2b7ccbe0>"
      ]
     },
     "execution_count": 94,
     "metadata": {},
     "output_type": "execute_result"
    },
    {
     "data": {
      "image/png": "[encoded data removed]",
      "text/plain": [
       "<Figure size 720x720 with 1 Axes>"
      ]
     },
     "metadata": {
      "needs_background": "light"
     },
     "output_type": "display_data"
    }
   ],
   "source": [
    "import descartes\n",
    "shape_data.plot(figsize=(10,10), column = 'NumberMissing', cmap = 'Reds')"
   ]
  },
  {
   "cell_type": "code",
   "execution_count": 21,
   "metadata": {},
   "outputs": [
    {
     "data": {
      "text/plain": [
       "<matplotlib.axes._subplots.AxesSubplot at 0x1a160c20b8>"
      ]
     },
     "execution_count": 21,
     "metadata": {},
     "output_type": "execute_result"
    },
    {
     "data": {
      "image/png": "[encoded data removed]",
      "text/plain": [
       "<Figure size 720x576 with 2 Axes>"
      ]
     },
     "metadata": {
      "needs_background": "light"
     },
     "output_type": "display_data"
    }
   ],
   "source": [
    "f, ax = plt.subplots(figsize=(10, 8))\n",
    "corr = covariables.corr()\n",
    "sns.heatmap(corr, mask=np.zeros_like(corr, dtype=np.bool), cmap=sns.diverging_palette(220, 10, as_cmap=True),\n",
    "            square=True, ax=ax)"
   ]
  },
  {
   "cell_type": "code",
   "execution_count": 29,
   "metadata": {},
   "outputs": [
    {
     "data": {
      "text/plain": [
       "Text(0.5, 0.98, 'Distribution of the predictors for EWIs')"
      ]
     },
     "execution_count": 29,
     "metadata": {},
     "output_type": "execute_result"
    },
    {
     "data": {
      "image/png": "[encoded data removed]",
      "text/plain": [
       "<Figure size 1080x576 with 6 Axes>"
      ]
     },
     "metadata": {
      "needs_background": "light"
     },
     "output_type": "display_data"
    }
   ],
   "source": [
    "fig,axes = plt.subplots(3,2,sharex=False,sharey=True, figsize=(15, 8))\n",
    "axes[-1, -1].axis('off')\n",
    "\n",
    "axes[0,0].hist(covariables[covariables.columns[2]],bins=50,color='k',alpha=0.5)\n",
    "axes[0,0].set_xlabel(covariables.columns[2])\n",
    "\n",
    "axes[0,1].hist(covariables[covariables.columns[3]],bins=50,color='k',alpha=0.5)\n",
    "axes[0,1].set_xlabel(covariables.columns[3])\n",
    "\n",
    "axes[1,0].hist(covariables[covariables.columns[4]],bins=50,color='k',alpha=0.5)\n",
    "axes[1,0].set_xlabel(covariables.columns[4])\n",
    "\n",
    "axes[1,1].hist(covariables[covariables.columns[5]],bins=50,color='k',alpha=0.5)\n",
    "axes[1,1].set_xlabel(covariables.columns[5])\n",
    "\n",
    "axes[2,0].hist(covariables[covariables.columns[6]],bins=50,color='k',alpha=0.5)\n",
    "axes[2,0].set_xlabel(covariables.columns[6])\n",
    "\n",
    "plt.subplots_adjust(wspace=.5,hspace=.5)\n",
    "plt.suptitle('Distribution of the predictors for EWIs')"
   ]
  }
 ],
 "metadata": {
  "kernelspec": {
   "display_name": "Python 3",
   "language": "python",
   "name": "python3"
  },
  "language_info": {
   "codemirror_mode": {
    "name": "ipython",
    "version": 3
   },
   "file_extension": ".py",
   "mimetype": "text/x-python",
   "name": "python",
   "nbconvert_exporter": "python",
   "pygments_lexer": "ipython3",
   "version": "3.7.3"
  }
 },
 "nbformat": 4,
 "nbformat_minor": 2
}
