{
 "cells": [
  {
   "cell_type": "code",
   "execution_count": 1,
   "metadata": {},
   "outputs": [],
   "source": [
    "import pandas as pd\n",
    "import matplotlib.pyplot as plt\n",
    "import numpy as np"
   ]
  },
  {
   "cell_type": "code",
   "execution_count": 96,
   "metadata": {},
   "outputs": [
    {
     "name": "stderr",
     "output_type": "stream",
     "text": [
      "/anaconda3/lib/python3.7/site-packages/IPython/core/interactiveshell.py:3049: DtypeWarning: Columns (0) have mixed types. Specify dtype option on import or set low_memory=False.\n",
      "  interactivity=interactivity, compiler=compiler, result=result)\n"
     ]
    }
   ],
   "source": [
    "hivdr_de = pd.read_csv(\"../data/processed/hivdr_de_mapping.csv\", sep=';')\n",
    "iap_covariates = pd.read_csv(\"../data/processed/iap_covariates.csv\")\n",
    "iap_matched = pd.read_csv(\"../data/processed/iap_fosa_matched.csv\")\n",
    "iap_matched = iap_matched.dropna()\n",
    "iap_data = pd.read_excel(\"../data/IAP_RDC_2010_2016_final.xlsx\", sheet_name = \"2010_2016\")\n",
    "iap_data = iap_data.dropna(subset=[\"% Rétention à 12 mois des patients sous TAR de 1ère ligne (cible ≥ 70%)2010-2012/(cible ≥ 90%) 2016\"])"
   ]
  },
  {
   "cell_type": "code",
   "execution_count": 307,
   "metadata": {},
   "outputs": [],
   "source": [
    "labelled_covariates = iap_covariates.merge(hivdr_de)\n",
    "full_data = labelled_covariates.merge(iap_matched, left_on = \"uidorgunit\", right_on = \"fosa_id\")\n",
    "full_data = full_data[['monthly', 'quarterly', 'dataelementname', 'catcomboname','population', \n",
    "                       'action', 'sub_population', 'province', 'fosa','value']]"
   ]
  },
  {
   "cell_type": "code",
   "execution_count": 308,
   "metadata": {},
   "outputs": [],
   "source": [
    "def make_sum(data):\n",
    "    if data.value.iloc[0] in [\"true\", \"false\"]:\n",
    "        out = pd.DataFrame.from_dict({\"value\":[data.value.iloc[0]]})\n",
    "    else :\n",
    "        data.value = data.value.astype(float)\n",
    "        out = pd.DataFrame.from_dict({\"value\":[data.value.sum()]})\n",
    "    return out\n",
    "\n",
    "full_data = full_data.groupby([\"province\",\"fosa\",\"monthly\",\"quarterly\", \"population\",\"action\",\"sub_population\",\"dataelementname\"]).apply(make_sum)"
   ]
  },
  {
   "cell_type": "code",
   "execution_count": 309,
   "metadata": {},
   "outputs": [],
   "source": [
    "full_data = full_data.reset_index().drop(\"level_8\", 1)\n",
    "full_data[\"standard_de\"] = full_data[\"population\"] + \"_\" + full_data[\"action\"]  + \"_\" + full_data[\"sub_population\"]"
   ]
  },
  {
   "cell_type": "code",
   "execution_count": 329,
   "metadata": {},
   "outputs": [],
   "source": [
    "    def impute_zero_dataelementname(df):\n",
    "        \n",
    "        \"\"\" This function is used to populate a pandas dfs with rows for each data element and zero imputed value\n",
    "        where at least one value for fosa x period x data element exists in the data.\n",
    "        \n",
    "        :param df: This is a pandas df that has rows only for manually inputed data element.\n",
    "        \n",
    "        :return: out: This function returns a pandas df augmented with extra rows for every existing data element.\n",
    "        \"\"\"\n",
    "    \n",
    "        import pandas as pd\n",
    "        \n",
    "        out = []\n",
    "        \n",
    "        list_fosa = df.fosa.unique()\n",
    "        \n",
    "        for fosa in list_fosa:\n",
    "            sub_df = df[df.fosa == fosa]\n",
    "            # first, drop duplicates in month x data element, then create a contigency table month x dataelement\n",
    "            sub_df_piv = sub_df.drop_duplicates(subset=[\"monthly\",\"dataelementname\"], keep='last').pivot(index=\"monthly\", columns=\"dataelementname\", values=[\"value\"])\n",
    "            # second, stacked the values to go back to a df format with one row per month and data element\n",
    "            # we replace NAs by 0, as we think that if a report was filled out, the missing values are really zeros\n",
    "            sub_df_piv_stacked = sub_df_piv.fillna(0).stack()\n",
    "            sub_df_piv_stacked = pd.DataFrame(sub_df_piv_stacked)\n",
    "            sub_df_piv_stacked = sub_df_piv_stacked.reset_index()\n",
    "            # finally, we merged it back with the original data frame\n",
    "            #sub_df_col = sub_df[[\"province\",\"fosa\",\"monthly\",\"quarterly\"]]\n",
    "            new_df = sub_df.merge(sub_df_piv_stacked, how = 'outer')\n",
    "            \n",
    "            out.append(new_df)\n",
    "        # return the transformed data frame\n",
    "        df_augmented = pd.concat(out)\n",
    "        return(df_augmented)"
   ]
  },
  {
   "cell_type": "code",
   "execution_count": 330,
   "metadata": {
    "scrolled": true
   },
   "outputs": [],
   "source": [
    "full_data_imp = impute_zero_dataelementname(full_data)"
   ]
  },
  {
   "cell_type": "code",
   "execution_count": 331,
   "metadata": {},
   "outputs": [
    {
     "data": {
      "text/plain": [
       "2508"
      ]
     },
     "execution_count": 331,
     "metadata": {},
     "output_type": "execute_result"
    }
   ],
   "source": [
    "len(full_data_imp)"
   ]
  },
  {
   "cell_type": "code",
   "execution_count": 100,
   "metadata": {},
   "outputs": [],
   "source": [
    "iap_data.columns = ['province', 'fosa', 'annee', 'ARV dispensation on time', '12 Months retention on first line', 'Months without stockout',\n",
    "                    'Correct prescription', 'Virus suppression', 'On time consultation', '12 Month LTFU']\n",
    "iap_data['12 Month LTFU'] = 100 - iap_data['12 Month LTFU']"
   ]
  },
  {
   "cell_type": "code",
   "execution_count": 101,
   "metadata": {},
   "outputs": [
    {
     "data": {
      "text/html": [
       "<div>\n",
       "<style scoped>\n",
       "    .dataframe tbody tr th:only-of-type {\n",
       "        vertical-align: middle;\n",
       "    }\n",
       "\n",
       "    .dataframe tbody tr th {\n",
       "        vertical-align: top;\n",
       "    }\n",
       "\n",
       "    .dataframe thead th {\n",
       "        text-align: right;\n",
       "    }\n",
       "</style>\n",
       "<table border=\"1\" class=\"dataframe\">\n",
       "  <thead>\n",
       "    <tr style=\"text-align: right;\">\n",
       "      <th></th>\n",
       "      <th>province</th>\n",
       "      <th>fosa</th>\n",
       "      <th>annee</th>\n",
       "      <th>ARV dispensation on time</th>\n",
       "      <th>12 Months retention on first line</th>\n",
       "      <th>Months without stockout</th>\n",
       "      <th>Correct prescription</th>\n",
       "      <th>Virus suppression</th>\n",
       "      <th>On time consultation</th>\n",
       "      <th>12 Month LTFU</th>\n",
       "    </tr>\n",
       "  </thead>\n",
       "  <tbody>\n",
       "    <tr>\n",
       "      <th>0</th>\n",
       "      <td>NORD KIVU</td>\n",
       "      <td>HP GOMA</td>\n",
       "      <td>2010</td>\n",
       "      <td>59.0</td>\n",
       "      <td>78.0</td>\n",
       "      <td>58.0</td>\n",
       "      <td>100.0</td>\n",
       "      <td>NaN</td>\n",
       "      <td>71</td>\n",
       "      <td>94.0</td>\n",
       "    </tr>\n",
       "    <tr>\n",
       "      <th>1</th>\n",
       "      <td>NORD KIVU</td>\n",
       "      <td>HP GOMA</td>\n",
       "      <td>2012</td>\n",
       "      <td>63.0</td>\n",
       "      <td>80.7</td>\n",
       "      <td>100.0</td>\n",
       "      <td>100.0</td>\n",
       "      <td>NaN</td>\n",
       "      <td>62</td>\n",
       "      <td>96.0</td>\n",
       "    </tr>\n",
       "    <tr>\n",
       "      <th>2</th>\n",
       "      <td>NORD KIVU</td>\n",
       "      <td>HP GOMA</td>\n",
       "      <td>2016</td>\n",
       "      <td>50.0</td>\n",
       "      <td>99.0</td>\n",
       "      <td>92.0</td>\n",
       "      <td>100.0</td>\n",
       "      <td>0.0</td>\n",
       "      <td>NaN</td>\n",
       "      <td>NaN</td>\n",
       "    </tr>\n",
       "    <tr>\n",
       "      <th>4</th>\n",
       "      <td>NORD KIVU</td>\n",
       "      <td>HGR VIRUNGA</td>\n",
       "      <td>2012</td>\n",
       "      <td>54.0</td>\n",
       "      <td>4.0</td>\n",
       "      <td>100.0</td>\n",
       "      <td>100.0</td>\n",
       "      <td>NaN</td>\n",
       "      <td>71</td>\n",
       "      <td>98.0</td>\n",
       "    </tr>\n",
       "    <tr>\n",
       "      <th>5</th>\n",
       "      <td>NORD KIVU</td>\n",
       "      <td>HGR VIRUNGA</td>\n",
       "      <td>2016</td>\n",
       "      <td>71.0</td>\n",
       "      <td>99.0</td>\n",
       "      <td>100.0</td>\n",
       "      <td>100.0</td>\n",
       "      <td>0.0</td>\n",
       "      <td>NaN</td>\n",
       "      <td>NaN</td>\n",
       "    </tr>\n",
       "  </tbody>\n",
       "</table>\n",
       "</div>"
      ],
      "text/plain": [
       "    province          fosa  annee  ARV dispensation on time  \\\n",
       "0  NORD KIVU       HP GOMA   2010                      59.0   \n",
       "1  NORD KIVU       HP GOMA   2012                      63.0   \n",
       "2  NORD KIVU       HP GOMA   2016                      50.0   \n",
       "4  NORD KIVU  HGR VIRUNGA    2012                      54.0   \n",
       "5  NORD KIVU  HGR VIRUNGA    2016                      71.0   \n",
       "\n",
       "   12 Months retention on first line  Months without stockout  \\\n",
       "0                               78.0                     58.0   \n",
       "1                               80.7                    100.0   \n",
       "2                               99.0                     92.0   \n",
       "4                                4.0                    100.0   \n",
       "5                               99.0                    100.0   \n",
       "\n",
       "   Correct prescription  Virus suppression On time consultation  12 Month LTFU  \n",
       "0                 100.0                NaN                   71           94.0  \n",
       "1                 100.0                NaN                   62           96.0  \n",
       "2                 100.0                0.0                  NaN            NaN  \n",
       "4                 100.0                NaN                   71           98.0  \n",
       "5                 100.0                0.0                  NaN            NaN  "
      ]
     },
     "execution_count": 101,
     "metadata": {},
     "output_type": "execute_result"
    }
   ],
   "source": [
    "iap_data.head()"
   ]
  },
  {
   "cell_type": "code",
   "execution_count": 102,
   "metadata": {
    "scrolled": true
   },
   "outputs": [
    {
     "data": {
      "text/html": [
       "<div>\n",
       "<style scoped>\n",
       "    .dataframe tbody tr th:only-of-type {\n",
       "        vertical-align: middle;\n",
       "    }\n",
       "\n",
       "    .dataframe tbody tr th {\n",
       "        vertical-align: top;\n",
       "    }\n",
       "\n",
       "    .dataframe thead th {\n",
       "        text-align: right;\n",
       "    }\n",
       "</style>\n",
       "<table border=\"1\" class=\"dataframe\">\n",
       "  <thead>\n",
       "    <tr style=\"text-align: right;\">\n",
       "      <th></th>\n",
       "      <th>province</th>\n",
       "      <th>fosa</th>\n",
       "      <th>annee</th>\n",
       "      <th>ARV dispensation on time</th>\n",
       "      <th>12 Months retention on first line</th>\n",
       "      <th>Months without stockout</th>\n",
       "      <th>Correct prescription</th>\n",
       "      <th>Virus suppression</th>\n",
       "      <th>On time consultation</th>\n",
       "      <th>12 Month LTFU</th>\n",
       "    </tr>\n",
       "  </thead>\n",
       "  <tbody>\n",
       "    <tr>\n",
       "      <th>2</th>\n",
       "      <td>NORD KIVU</td>\n",
       "      <td>HP GOMA</td>\n",
       "      <td>2016</td>\n",
       "      <td>50.0</td>\n",
       "      <td>99.0</td>\n",
       "      <td>92.0</td>\n",
       "      <td>100.0</td>\n",
       "      <td>0.0</td>\n",
       "      <td>NaN</td>\n",
       "      <td>NaN</td>\n",
       "    </tr>\n",
       "    <tr>\n",
       "      <th>5</th>\n",
       "      <td>NORD KIVU</td>\n",
       "      <td>HGR VIRUNGA</td>\n",
       "      <td>2016</td>\n",
       "      <td>71.0</td>\n",
       "      <td>99.0</td>\n",
       "      <td>100.0</td>\n",
       "      <td>100.0</td>\n",
       "      <td>0.0</td>\n",
       "      <td>NaN</td>\n",
       "      <td>NaN</td>\n",
       "    </tr>\n",
       "    <tr>\n",
       "      <th>8</th>\n",
       "      <td>NORD KIVU</td>\n",
       "      <td>CSR KAHEMBE</td>\n",
       "      <td>2016</td>\n",
       "      <td>85.0</td>\n",
       "      <td>86.0</td>\n",
       "      <td>100.0</td>\n",
       "      <td>100.0</td>\n",
       "      <td>0.0</td>\n",
       "      <td>NaN</td>\n",
       "      <td>NaN</td>\n",
       "    </tr>\n",
       "    <tr>\n",
       "      <th>29</th>\n",
       "      <td>NORD KIVU</td>\n",
       "      <td>HEAL AFRICA</td>\n",
       "      <td>2016</td>\n",
       "      <td>87.0</td>\n",
       "      <td>92.0</td>\n",
       "      <td>83.0</td>\n",
       "      <td>86.0</td>\n",
       "      <td>0.0</td>\n",
       "      <td>NaN</td>\n",
       "      <td>NaN</td>\n",
       "    </tr>\n",
       "    <tr>\n",
       "      <th>32</th>\n",
       "      <td>NORD KIVU</td>\n",
       "      <td>CS MURARA</td>\n",
       "      <td>2016</td>\n",
       "      <td>84.0</td>\n",
       "      <td>90.0</td>\n",
       "      <td>100.0</td>\n",
       "      <td>100.0</td>\n",
       "      <td>0.0</td>\n",
       "      <td>NaN</td>\n",
       "      <td>NaN</td>\n",
       "    </tr>\n",
       "  </tbody>\n",
       "</table>\n",
       "</div>"
      ],
      "text/plain": [
       "     province          fosa  annee  ARV dispensation on time  \\\n",
       "2   NORD KIVU       HP GOMA   2016                      50.0   \n",
       "5   NORD KIVU  HGR VIRUNGA    2016                      71.0   \n",
       "8   NORD KIVU  CSR KAHEMBE    2016                      85.0   \n",
       "29  NORD KIVU   HEAL AFRICA   2016                      87.0   \n",
       "32  NORD KIVU     CS MURARA   2016                      84.0   \n",
       "\n",
       "    12 Months retention on first line  Months without stockout  \\\n",
       "2                                99.0                     92.0   \n",
       "5                                99.0                    100.0   \n",
       "8                                86.0                    100.0   \n",
       "29                               92.0                     83.0   \n",
       "32                               90.0                    100.0   \n",
       "\n",
       "    Correct prescription  Virus suppression On time consultation  \\\n",
       "2                  100.0                0.0                  NaN   \n",
       "5                  100.0                0.0                  NaN   \n",
       "8                  100.0                0.0                  NaN   \n",
       "29                  86.0                0.0                  NaN   \n",
       "32                 100.0                0.0                  NaN   \n",
       "\n",
       "    12 Month LTFU  \n",
       "2             NaN  \n",
       "5             NaN  \n",
       "8             NaN  \n",
       "29            NaN  \n",
       "32            NaN  "
      ]
     },
     "execution_count": 102,
     "metadata": {},
     "output_type": "execute_result"
    }
   ],
   "source": [
    "iap_data_2016 = iap_data[iap_data.annee == 2016]\n",
    "iap_data_2016.head()"
   ]
  },
  {
   "cell_type": "code",
   "execution_count": 103,
   "metadata": {},
   "outputs": [
    {
     "data": {
      "text/plain": [
       "province                               0\n",
       "fosa                                   0\n",
       "annee                                  0\n",
       "ARV dispensation on time               1\n",
       "12 Months retention on first line      0\n",
       "Months without stockout                0\n",
       "Correct prescription                   0\n",
       "Virus suppression                      2\n",
       "On time consultation                 120\n",
       "12 Month LTFU                        121\n",
       "dtype: int64"
      ]
     },
     "execution_count": 103,
     "metadata": {},
     "output_type": "execute_result"
    }
   ],
   "source": [
    "iap_data_2016.isnull().sum(axis = 0)"
   ]
  },
  {
   "cell_type": "code",
   "execution_count": 104,
   "metadata": {},
   "outputs": [
    {
     "data": {
      "text/plain": [
       "121"
      ]
     },
     "execution_count": 104,
     "metadata": {},
     "output_type": "execute_result"
    }
   ],
   "source": [
    "len(iap_data_2016) # On time consultation and 12 month LTFU useless"
   ]
  },
  {
   "cell_type": "code",
   "execution_count": 105,
   "metadata": {},
   "outputs": [],
   "source": [
    "targets={'ARV dispensation on time':90,\n",
    "         '12 Months retention on first line':70,\n",
    "         'Months without stockout':100,\n",
    "         'Correct prescription':100,\n",
    "         'Virus suppression':100}"
   ]
  },
  {
   "cell_type": "markdown",
   "metadata": {},
   "source": [
    "## Transforming the outcome variable\n",
    "\n",
    "We use the 5 IAPs to calculate an aggregated z-score for each *fosa*. The idea is to be able to detect outlying *fosa* based on their performance on the 5 IAPs. We can then try to see if the routinely collected data are sufficient to predict outlyingly low aggregated z-scores (i.e. $ < -1$ or $ < -2$)."
   ]
  },
  {
   "cell_type": "code",
   "execution_count": 106,
   "metadata": {},
   "outputs": [],
   "source": [
    "iap_data_2016_score = iap_data_2016.copy()\n",
    "for indic in list(targets.keys()):\n",
    "    iap_data_2016_score[[\"score_continuous_\" + indic]] = (iap_data_2016[[indic]] - targets[indic])/((iap_data_2016[[indic]].quantile(q = .975)-iap_data_2016[[indic]].quantile(q = .025))/4)\n",
    "    iap_data_2016_score[[\"score_normal_\" + indic]] = (iap_data_2016[[indic]] - targets[indic])/np.std(iap_data_2016[[indic]])                                                                                                #out.append(iap_data_2016[[indic]] - targets[indic])"
   ]
  },
  {
   "cell_type": "markdown",
   "metadata": {},
   "source": [
    "### Z-scores\n",
    "\n",
    "We use two different assumptions for the data-generating mechanism - a continuous distribution assumption (as we are dealing with $\\%$ without denominator), and a normal assumption."
   ]
  },
  {
   "cell_type": "code",
   "execution_count": 107,
   "metadata": {},
   "outputs": [
    {
     "data": {
      "text/html": [
       "<div>\n",
       "<style scoped>\n",
       "    .dataframe tbody tr th:only-of-type {\n",
       "        vertical-align: middle;\n",
       "    }\n",
       "\n",
       "    .dataframe tbody tr th {\n",
       "        vertical-align: top;\n",
       "    }\n",
       "\n",
       "    .dataframe thead th {\n",
       "        text-align: right;\n",
       "    }\n",
       "</style>\n",
       "<table border=\"1\" class=\"dataframe\">\n",
       "  <thead>\n",
       "    <tr style=\"text-align: right;\">\n",
       "      <th></th>\n",
       "      <th>province</th>\n",
       "      <th>fosa</th>\n",
       "      <th>annee</th>\n",
       "      <th>ARV dispensation on time</th>\n",
       "      <th>12 Months retention on first line</th>\n",
       "      <th>Months without stockout</th>\n",
       "      <th>Correct prescription</th>\n",
       "      <th>Virus suppression</th>\n",
       "      <th>On time consultation</th>\n",
       "      <th>12 Month LTFU</th>\n",
       "      <th>score_continuous_ARV dispensation on time</th>\n",
       "      <th>score_normal_ARV dispensation on time</th>\n",
       "      <th>score_continuous_12 Months retention on first line</th>\n",
       "      <th>score_normal_12 Months retention on first line</th>\n",
       "      <th>score_continuous_Months without stockout</th>\n",
       "      <th>score_normal_Months without stockout</th>\n",
       "      <th>score_continuous_Correct prescription</th>\n",
       "      <th>score_normal_Correct prescription</th>\n",
       "      <th>score_continuous_Virus suppression</th>\n",
       "      <th>score_normal_Virus suppression</th>\n",
       "    </tr>\n",
       "  </thead>\n",
       "  <tbody>\n",
       "    <tr>\n",
       "      <th>2</th>\n",
       "      <td>NORD KIVU</td>\n",
       "      <td>HP GOMA</td>\n",
       "      <td>2016</td>\n",
       "      <td>50.0</td>\n",
       "      <td>99.0</td>\n",
       "      <td>92.0</td>\n",
       "      <td>100.0</td>\n",
       "      <td>0.0</td>\n",
       "      <td>NaN</td>\n",
       "      <td>NaN</td>\n",
       "      <td>-3.176179</td>\n",
       "      <td>-0.672595</td>\n",
       "      <td>1.8125</td>\n",
       "      <td>1.650891</td>\n",
       "      <td>-0.32</td>\n",
       "      <td>-0.308093</td>\n",
       "      <td>0.0</td>\n",
       "      <td>0.000000</td>\n",
       "      <td>-14.084507</td>\n",
       "      <td>-7.439093</td>\n",
       "    </tr>\n",
       "    <tr>\n",
       "      <th>5</th>\n",
       "      <td>NORD KIVU</td>\n",
       "      <td>HGR VIRUNGA</td>\n",
       "      <td>2016</td>\n",
       "      <td>71.0</td>\n",
       "      <td>99.0</td>\n",
       "      <td>100.0</td>\n",
       "      <td>100.0</td>\n",
       "      <td>0.0</td>\n",
       "      <td>NaN</td>\n",
       "      <td>NaN</td>\n",
       "      <td>-1.508685</td>\n",
       "      <td>-0.319483</td>\n",
       "      <td>1.8125</td>\n",
       "      <td>1.650891</td>\n",
       "      <td>0.00</td>\n",
       "      <td>0.000000</td>\n",
       "      <td>0.0</td>\n",
       "      <td>0.000000</td>\n",
       "      <td>-14.084507</td>\n",
       "      <td>-7.439093</td>\n",
       "    </tr>\n",
       "    <tr>\n",
       "      <th>8</th>\n",
       "      <td>NORD KIVU</td>\n",
       "      <td>CSR KAHEMBE</td>\n",
       "      <td>2016</td>\n",
       "      <td>85.0</td>\n",
       "      <td>86.0</td>\n",
       "      <td>100.0</td>\n",
       "      <td>100.0</td>\n",
       "      <td>0.0</td>\n",
       "      <td>NaN</td>\n",
       "      <td>NaN</td>\n",
       "      <td>-0.397022</td>\n",
       "      <td>-0.084074</td>\n",
       "      <td>1.0000</td>\n",
       "      <td>0.910837</td>\n",
       "      <td>0.00</td>\n",
       "      <td>0.000000</td>\n",
       "      <td>0.0</td>\n",
       "      <td>0.000000</td>\n",
       "      <td>-14.084507</td>\n",
       "      <td>-7.439093</td>\n",
       "    </tr>\n",
       "    <tr>\n",
       "      <th>29</th>\n",
       "      <td>NORD KIVU</td>\n",
       "      <td>HEAL AFRICA</td>\n",
       "      <td>2016</td>\n",
       "      <td>87.0</td>\n",
       "      <td>92.0</td>\n",
       "      <td>83.0</td>\n",
       "      <td>86.0</td>\n",
       "      <td>0.0</td>\n",
       "      <td>NaN</td>\n",
       "      <td>NaN</td>\n",
       "      <td>-0.238213</td>\n",
       "      <td>-0.050445</td>\n",
       "      <td>1.3750</td>\n",
       "      <td>1.252400</td>\n",
       "      <td>-0.68</td>\n",
       "      <td>-0.654697</td>\n",
       "      <td>-28.0</td>\n",
       "      <td>-4.172464</td>\n",
       "      <td>-14.084507</td>\n",
       "      <td>-7.439093</td>\n",
       "    </tr>\n",
       "    <tr>\n",
       "      <th>32</th>\n",
       "      <td>NORD KIVU</td>\n",
       "      <td>CS MURARA</td>\n",
       "      <td>2016</td>\n",
       "      <td>84.0</td>\n",
       "      <td>90.0</td>\n",
       "      <td>100.0</td>\n",
       "      <td>100.0</td>\n",
       "      <td>0.0</td>\n",
       "      <td>NaN</td>\n",
       "      <td>NaN</td>\n",
       "      <td>-0.476427</td>\n",
       "      <td>-0.100889</td>\n",
       "      <td>1.2500</td>\n",
       "      <td>1.138546</td>\n",
       "      <td>0.00</td>\n",
       "      <td>0.000000</td>\n",
       "      <td>0.0</td>\n",
       "      <td>0.000000</td>\n",
       "      <td>-14.084507</td>\n",
       "      <td>-7.439093</td>\n",
       "    </tr>\n",
       "  </tbody>\n",
       "</table>\n",
       "</div>"
      ],
      "text/plain": [
       "     province          fosa  annee  ARV dispensation on time  \\\n",
       "2   NORD KIVU       HP GOMA   2016                      50.0   \n",
       "5   NORD KIVU  HGR VIRUNGA    2016                      71.0   \n",
       "8   NORD KIVU  CSR KAHEMBE    2016                      85.0   \n",
       "29  NORD KIVU   HEAL AFRICA   2016                      87.0   \n",
       "32  NORD KIVU     CS MURARA   2016                      84.0   \n",
       "\n",
       "    12 Months retention on first line  Months without stockout  \\\n",
       "2                                99.0                     92.0   \n",
       "5                                99.0                    100.0   \n",
       "8                                86.0                    100.0   \n",
       "29                               92.0                     83.0   \n",
       "32                               90.0                    100.0   \n",
       "\n",
       "    Correct prescription  Virus suppression On time consultation  \\\n",
       "2                  100.0                0.0                  NaN   \n",
       "5                  100.0                0.0                  NaN   \n",
       "8                  100.0                0.0                  NaN   \n",
       "29                  86.0                0.0                  NaN   \n",
       "32                 100.0                0.0                  NaN   \n",
       "\n",
       "    12 Month LTFU  score_continuous_ARV dispensation on time  \\\n",
       "2             NaN                                  -3.176179   \n",
       "5             NaN                                  -1.508685   \n",
       "8             NaN                                  -0.397022   \n",
       "29            NaN                                  -0.238213   \n",
       "32            NaN                                  -0.476427   \n",
       "\n",
       "    score_normal_ARV dispensation on time  \\\n",
       "2                               -0.672595   \n",
       "5                               -0.319483   \n",
       "8                               -0.084074   \n",
       "29                              -0.050445   \n",
       "32                              -0.100889   \n",
       "\n",
       "    score_continuous_12 Months retention on first line  \\\n",
       "2                                              1.8125    \n",
       "5                                              1.8125    \n",
       "8                                              1.0000    \n",
       "29                                             1.3750    \n",
       "32                                             1.2500    \n",
       "\n",
       "    score_normal_12 Months retention on first line  \\\n",
       "2                                         1.650891   \n",
       "5                                         1.650891   \n",
       "8                                         0.910837   \n",
       "29                                        1.252400   \n",
       "32                                        1.138546   \n",
       "\n",
       "    score_continuous_Months without stockout  \\\n",
       "2                                      -0.32   \n",
       "5                                       0.00   \n",
       "8                                       0.00   \n",
       "29                                     -0.68   \n",
       "32                                      0.00   \n",
       "\n",
       "    score_normal_Months without stockout  \\\n",
       "2                              -0.308093   \n",
       "5                               0.000000   \n",
       "8                               0.000000   \n",
       "29                             -0.654697   \n",
       "32                              0.000000   \n",
       "\n",
       "    score_continuous_Correct prescription  score_normal_Correct prescription  \\\n",
       "2                                     0.0                           0.000000   \n",
       "5                                     0.0                           0.000000   \n",
       "8                                     0.0                           0.000000   \n",
       "29                                  -28.0                          -4.172464   \n",
       "32                                    0.0                           0.000000   \n",
       "\n",
       "    score_continuous_Virus suppression  score_normal_Virus suppression  \n",
       "2                           -14.084507                       -7.439093  \n",
       "5                           -14.084507                       -7.439093  \n",
       "8                           -14.084507                       -7.439093  \n",
       "29                          -14.084507                       -7.439093  \n",
       "32                          -14.084507                       -7.439093  "
      ]
     },
     "execution_count": 107,
     "metadata": {},
     "output_type": "execute_result"
    }
   ],
   "source": [
    "iap_data_2016_score.head()"
   ]
  },
  {
   "cell_type": "code",
   "execution_count": 116,
   "metadata": {},
   "outputs": [],
   "source": [
    "scores = iap_data_2016_score[iap_data_2016_score.columns[10:22]]"
   ]
  },
  {
   "cell_type": "code",
   "execution_count": 148,
   "metadata": {},
   "outputs": [],
   "source": [
    "import math\n",
    "def account_overdisp(zscore):\n",
    "    phi = np.nansum(zscore*zscore)/len(zscore)\n",
    "    zscore_star = zscore/np.sqrt(phi)\n",
    "    return zscore_star"
   ]
  },
  {
   "cell_type": "code",
   "execution_count": 117,
   "metadata": {},
   "outputs": [
    {
     "data": {
      "text/html": [
       "<div>\n",
       "<style scoped>\n",
       "    .dataframe tbody tr th:only-of-type {\n",
       "        vertical-align: middle;\n",
       "    }\n",
       "\n",
       "    .dataframe tbody tr th {\n",
       "        vertical-align: top;\n",
       "    }\n",
       "\n",
       "    .dataframe thead th {\n",
       "        text-align: right;\n",
       "    }\n",
       "</style>\n",
       "<table border=\"1\" class=\"dataframe\">\n",
       "  <thead>\n",
       "    <tr style=\"text-align: right;\">\n",
       "      <th></th>\n",
       "      <th>score_continuous_ARV dispensation on time</th>\n",
       "      <th>score_normal_ARV dispensation on time</th>\n",
       "      <th>score_continuous_12 Months retention on first line</th>\n",
       "      <th>score_normal_12 Months retention on first line</th>\n",
       "      <th>score_continuous_Months without stockout</th>\n",
       "      <th>score_normal_Months without stockout</th>\n",
       "      <th>score_continuous_Correct prescription</th>\n",
       "      <th>score_normal_Correct prescription</th>\n",
       "      <th>score_continuous_Virus suppression</th>\n",
       "      <th>score_normal_Virus suppression</th>\n",
       "    </tr>\n",
       "  </thead>\n",
       "  <tbody>\n",
       "    <tr>\n",
       "      <th>2</th>\n",
       "      <td>-3.176179</td>\n",
       "      <td>-0.672595</td>\n",
       "      <td>1.8125</td>\n",
       "      <td>1.650891</td>\n",
       "      <td>-0.32</td>\n",
       "      <td>-0.308093</td>\n",
       "      <td>0.0</td>\n",
       "      <td>0.000000</td>\n",
       "      <td>-14.084507</td>\n",
       "      <td>-7.439093</td>\n",
       "    </tr>\n",
       "    <tr>\n",
       "      <th>5</th>\n",
       "      <td>-1.508685</td>\n",
       "      <td>-0.319483</td>\n",
       "      <td>1.8125</td>\n",
       "      <td>1.650891</td>\n",
       "      <td>0.00</td>\n",
       "      <td>0.000000</td>\n",
       "      <td>0.0</td>\n",
       "      <td>0.000000</td>\n",
       "      <td>-14.084507</td>\n",
       "      <td>-7.439093</td>\n",
       "    </tr>\n",
       "    <tr>\n",
       "      <th>8</th>\n",
       "      <td>-0.397022</td>\n",
       "      <td>-0.084074</td>\n",
       "      <td>1.0000</td>\n",
       "      <td>0.910837</td>\n",
       "      <td>0.00</td>\n",
       "      <td>0.000000</td>\n",
       "      <td>0.0</td>\n",
       "      <td>0.000000</td>\n",
       "      <td>-14.084507</td>\n",
       "      <td>-7.439093</td>\n",
       "    </tr>\n",
       "    <tr>\n",
       "      <th>29</th>\n",
       "      <td>-0.238213</td>\n",
       "      <td>-0.050445</td>\n",
       "      <td>1.3750</td>\n",
       "      <td>1.252400</td>\n",
       "      <td>-0.68</td>\n",
       "      <td>-0.654697</td>\n",
       "      <td>-28.0</td>\n",
       "      <td>-4.172464</td>\n",
       "      <td>-14.084507</td>\n",
       "      <td>-7.439093</td>\n",
       "    </tr>\n",
       "    <tr>\n",
       "      <th>32</th>\n",
       "      <td>-0.476427</td>\n",
       "      <td>-0.100889</td>\n",
       "      <td>1.2500</td>\n",
       "      <td>1.138546</td>\n",
       "      <td>0.00</td>\n",
       "      <td>0.000000</td>\n",
       "      <td>0.0</td>\n",
       "      <td>0.000000</td>\n",
       "      <td>-14.084507</td>\n",
       "      <td>-7.439093</td>\n",
       "    </tr>\n",
       "  </tbody>\n",
       "</table>\n",
       "</div>"
      ],
      "text/plain": [
       "    score_continuous_ARV dispensation on time  \\\n",
       "2                                   -3.176179   \n",
       "5                                   -1.508685   \n",
       "8                                   -0.397022   \n",
       "29                                  -0.238213   \n",
       "32                                  -0.476427   \n",
       "\n",
       "    score_normal_ARV dispensation on time  \\\n",
       "2                               -0.672595   \n",
       "5                               -0.319483   \n",
       "8                               -0.084074   \n",
       "29                              -0.050445   \n",
       "32                              -0.100889   \n",
       "\n",
       "    score_continuous_12 Months retention on first line  \\\n",
       "2                                              1.8125    \n",
       "5                                              1.8125    \n",
       "8                                              1.0000    \n",
       "29                                             1.3750    \n",
       "32                                             1.2500    \n",
       "\n",
       "    score_normal_12 Months retention on first line  \\\n",
       "2                                         1.650891   \n",
       "5                                         1.650891   \n",
       "8                                         0.910837   \n",
       "29                                        1.252400   \n",
       "32                                        1.138546   \n",
       "\n",
       "    score_continuous_Months without stockout  \\\n",
       "2                                      -0.32   \n",
       "5                                       0.00   \n",
       "8                                       0.00   \n",
       "29                                     -0.68   \n",
       "32                                      0.00   \n",
       "\n",
       "    score_normal_Months without stockout  \\\n",
       "2                              -0.308093   \n",
       "5                               0.000000   \n",
       "8                               0.000000   \n",
       "29                             -0.654697   \n",
       "32                              0.000000   \n",
       "\n",
       "    score_continuous_Correct prescription  score_normal_Correct prescription  \\\n",
       "2                                     0.0                           0.000000   \n",
       "5                                     0.0                           0.000000   \n",
       "8                                     0.0                           0.000000   \n",
       "29                                  -28.0                          -4.172464   \n",
       "32                                    0.0                           0.000000   \n",
       "\n",
       "    score_continuous_Virus suppression  score_normal_Virus suppression  \n",
       "2                           -14.084507                       -7.439093  \n",
       "5                           -14.084507                       -7.439093  \n",
       "8                           -14.084507                       -7.439093  \n",
       "29                          -14.084507                       -7.439093  \n",
       "32                          -14.084507                       -7.439093  "
      ]
     },
     "execution_count": 117,
     "metadata": {},
     "output_type": "execute_result"
    }
   ],
   "source": [
    "scores.head()"
   ]
  },
  {
   "cell_type": "code",
   "execution_count": 126,
   "metadata": {},
   "outputs": [],
   "source": [
    "scores_continuous = scores.filter(regex='continuous',axis=1)\n",
    "scores_norm = scores.filter(regex='norm',axis=1)"
   ]
  },
  {
   "cell_type": "code",
   "execution_count": 151,
   "metadata": {},
   "outputs": [],
   "source": [
    "corrected_scores_continuous = scores_continuous.apply(account_overdisp)\n",
    "corrected_scores_norm = scores_norm.apply(account_overdisp)"
   ]
  },
  {
   "cell_type": "code",
   "execution_count": 153,
   "metadata": {
    "scrolled": false
   },
   "outputs": [
    {
     "data": {
      "text/html": [
       "<div>\n",
       "<style scoped>\n",
       "    .dataframe tbody tr th:only-of-type {\n",
       "        vertical-align: middle;\n",
       "    }\n",
       "\n",
       "    .dataframe tbody tr th {\n",
       "        vertical-align: top;\n",
       "    }\n",
       "\n",
       "    .dataframe thead th {\n",
       "        text-align: right;\n",
       "    }\n",
       "</style>\n",
       "<table border=\"1\" class=\"dataframe\">\n",
       "  <thead>\n",
       "    <tr style=\"text-align: right;\">\n",
       "      <th></th>\n",
       "      <th>score_continuous_ARV dispensation on time</th>\n",
       "      <th>score_continuous_12 Months retention on first line</th>\n",
       "      <th>score_continuous_Months without stockout</th>\n",
       "      <th>score_continuous_Correct prescription</th>\n",
       "      <th>score_continuous_Virus suppression</th>\n",
       "    </tr>\n",
       "  </thead>\n",
       "  <tbody>\n",
       "    <tr>\n",
       "      <th>2</th>\n",
       "      <td>-0.673002</td>\n",
       "      <td>1.339568</td>\n",
       "      <td>-0.271655</td>\n",
       "      <td>0.000000</td>\n",
       "      <td>-1.022155</td>\n",
       "    </tr>\n",
       "    <tr>\n",
       "      <th>5</th>\n",
       "      <td>-0.319676</td>\n",
       "      <td>1.339568</td>\n",
       "      <td>0.000000</td>\n",
       "      <td>0.000000</td>\n",
       "      <td>-1.022155</td>\n",
       "    </tr>\n",
       "    <tr>\n",
       "      <th>8</th>\n",
       "      <td>-0.084125</td>\n",
       "      <td>0.739072</td>\n",
       "      <td>0.000000</td>\n",
       "      <td>0.000000</td>\n",
       "      <td>-1.022155</td>\n",
       "    </tr>\n",
       "    <tr>\n",
       "      <th>29</th>\n",
       "      <td>-0.050475</td>\n",
       "      <td>1.016224</td>\n",
       "      <td>-0.577268</td>\n",
       "      <td>-4.126151</td>\n",
       "      <td>-1.022155</td>\n",
       "    </tr>\n",
       "    <tr>\n",
       "      <th>32</th>\n",
       "      <td>-0.100950</td>\n",
       "      <td>0.923840</td>\n",
       "      <td>0.000000</td>\n",
       "      <td>0.000000</td>\n",
       "      <td>-1.022155</td>\n",
       "    </tr>\n",
       "  </tbody>\n",
       "</table>\n",
       "</div>"
      ],
      "text/plain": [
       "    score_continuous_ARV dispensation on time  \\\n",
       "2                                   -0.673002   \n",
       "5                                   -0.319676   \n",
       "8                                   -0.084125   \n",
       "29                                  -0.050475   \n",
       "32                                  -0.100950   \n",
       "\n",
       "    score_continuous_12 Months retention on first line  \\\n",
       "2                                            1.339568    \n",
       "5                                            1.339568    \n",
       "8                                            0.739072    \n",
       "29                                           1.016224    \n",
       "32                                           0.923840    \n",
       "\n",
       "    score_continuous_Months without stockout  \\\n",
       "2                                  -0.271655   \n",
       "5                                   0.000000   \n",
       "8                                   0.000000   \n",
       "29                                 -0.577268   \n",
       "32                                  0.000000   \n",
       "\n",
       "    score_continuous_Correct prescription  score_continuous_Virus suppression  \n",
       "2                                0.000000                           -1.022155  \n",
       "5                                0.000000                           -1.022155  \n",
       "8                                0.000000                           -1.022155  \n",
       "29                              -4.126151                           -1.022155  \n",
       "32                               0.000000                           -1.022155  "
      ]
     },
     "execution_count": 153,
     "metadata": {},
     "output_type": "execute_result"
    }
   ],
   "source": [
    "corrected_scores_continuous.head()"
   ]
  },
  {
   "cell_type": "code",
   "execution_count": 174,
   "metadata": {},
   "outputs": [
    {
     "data": {
      "text/plain": [
       "Text(0.5, 1.0, 'Continuous z-scores adjusted for overdispersion')"
      ]
     },
     "execution_count": 174,
     "metadata": {},
     "output_type": "execute_result"
    },
    {
     "data": {
      "image/png": "[encoded data removed]",
      "text/plain": [
       "<Figure size 432x288 with 6 Axes>"
      ]
     },
     "metadata": {
      "needs_background": "light"
     },
     "output_type": "display_data"
    }
   ],
   "source": [
    "from matplotlib import pyplot as plt\n",
    "\n",
    "fig,axes = plt.subplots(3,2,sharex=False,sharey=True)\n",
    "\n",
    "axes[0,0].hist(corrected_scores_continuous[corrected_scores_continuous.columns[0]],bins=50,color='k',alpha=0.5)\n",
    "axes[0,0].set_xlabel(corrected_scores_continuous.columns[0])\n",
    "\n",
    "axes[0,1].hist(corrected_scores_continuous[corrected_scores_continuous.columns[1]],bins=50,color='k',alpha=0.5)\n",
    "axes[0,1].set_xlabel(corrected_scores_continuous.columns[1])\n",
    "\n",
    "axes[1,0].hist(corrected_scores_continuous[corrected_scores_continuous.columns[1]],bins=50,color='k',alpha=0.5)\n",
    "axes[1,0].set_xlabel(corrected_scores_continuous.columns[2])\n",
    "\n",
    "axes[1,1].hist(corrected_scores_continuous[corrected_scores_continuous.columns[1]],bins=50,color='k',alpha=0.5)\n",
    "axes[1,1].set_xlabel(corrected_scores_continuous.columns[3])\n",
    "\n",
    "axes[2,0].hist(corrected_scores_continuous[corrected_scores_continuous.columns[1]],bins=50,color='k',alpha=0.5)\n",
    "axes[2,0].set_xlabel(corrected_scores_continuous.columns[4])\n",
    "\n",
    "plt.subplots_adjust(wspace=2.5,hspace=1.5)\n",
    "plt.title(\"Continuous z-scores adjusted for overdispersion\")"
   ]
  },
  {
   "cell_type": "code",
   "execution_count": 175,
   "metadata": {
    "scrolled": true
   },
   "outputs": [
    {
     "data": {
      "text/plain": [
       "Text(0.5, 1.0, 'Normal z-scores adjusted for overdispersion')"
      ]
     },
     "execution_count": 175,
     "metadata": {},
     "output_type": "execute_result"
    },
    {
     "data": {
      "image/png": "[encoded data removed]",
      "text/plain": [
       "<Figure size 432x288 with 6 Axes>"
      ]
     },
     "metadata": {
      "needs_background": "light"
     },
     "output_type": "display_data"
    }
   ],
   "source": [
    "from matplotlib import pyplot as plt\n",
    "\n",
    "fig,axes = plt.subplots(3,2,sharex=False,sharey=True)\n",
    "\n",
    "axes[0,0].hist(corrected_scores_norm[corrected_scores_norm.columns[0]],bins=50,color='k',alpha=0.5)\n",
    "axes[0,0].set_xlabel(corrected_scores_norm.columns[0])\n",
    "\n",
    "axes[0,1].hist(corrected_scores_norm[corrected_scores_norm.columns[1]],bins=50,color='k',alpha=0.5)\n",
    "axes[0,1].set_xlabel(corrected_scores_norm.columns[1])\n",
    "\n",
    "axes[1,0].hist(corrected_scores_norm[corrected_scores_norm.columns[1]],bins=50,color='k',alpha=0.5)\n",
    "axes[1,0].set_xlabel(corrected_scores_norm.columns[2])\n",
    "\n",
    "axes[1,1].hist(corrected_scores_norm[corrected_scores_norm.columns[1]],bins=50,color='k',alpha=0.5)\n",
    "axes[1,1].set_xlabel(corrected_scores_norm.columns[3])\n",
    "\n",
    "axes[2,0].hist(corrected_scores_norm[corrected_scores_norm.columns[1]],bins=50,color='k',alpha=0.5)\n",
    "axes[2,0].set_xlabel(corrected_scores_norm.columns[4])\n",
    "\n",
    "plt.subplots_adjust(wspace=2.5,hspace=1.5)\n",
    "plt.title(\"Normal z-scores adjusted for overdispersion\")"
   ]
  },
  {
   "cell_type": "markdown",
   "metadata": {},
   "source": [
    "The **z-scores** obtained with the two different methods are really close. Therefore, in the following we only keep the *continuous z-scores*."
   ]
  },
  {
   "cell_type": "code",
   "execution_count": 178,
   "metadata": {},
   "outputs": [
    {
     "data": {
      "text/plain": [
       "<matplotlib.axes._subplots.AxesSubplot at 0x11b441f60>"
      ]
     },
     "execution_count": 178,
     "metadata": {},
     "output_type": "execute_result"
    },
    {
     "data": {
      "image/png": "[encoded data removed]",
      "text/plain": [
       "<Figure size 720x576 with 2 Axes>"
      ]
     },
     "metadata": {
      "needs_background": "light"
     },
     "output_type": "display_data"
    }
   ],
   "source": [
    "#plt.matshow(corrected_scores_continuous.corr())\n",
    "#plt.show()\n",
    "import seaborn as sns\n",
    "\n",
    "f, ax = plt.subplots(figsize=(10, 8))\n",
    "corr = corrected_scores_continuous.corr()\n",
    "sns.heatmap(corr, mask=np.zeros_like(corr, dtype=np.bool), cmap=sns.diverging_palette(220, 10, as_cmap=True),\n",
    "            square=True, ax=ax)"
   ]
  },
  {
   "cell_type": "markdown",
   "metadata": {},
   "source": [
    "Surprisingly (or not), the 5 IAPs are scarcely correlated."
   ]
  },
  {
   "cell_type": "code",
   "execution_count": 228,
   "metadata": {},
   "outputs": [
    {
     "name": "stdout",
     "output_type": "stream",
     "text": [
      "[0.9665916360236326, 0.9394173994943406, 0.7355728039268268, 0.97832927749671, 0.8368611774831336]\n"
     ]
    }
   ],
   "source": [
    "w = []\n",
    "for i in range(5):\n",
    "    w.append(1/sum(corr[corr.columns[i]]))\n",
    "\n",
    "print(w)"
   ]
  },
  {
   "cell_type": "code",
   "execution_count": 229,
   "metadata": {},
   "outputs": [
    {
     "name": "stdout",
     "output_type": "stream",
     "text": [
      "4.4419213898355485\n"
     ]
    }
   ],
   "source": [
    "denom = 0\n",
    "for i in range(5):\n",
    "    for j in range(5):\n",
    "        denom = denom + corr.iloc[i,j]*w[i]*w[j]\n",
    "        \n",
    "print(denom)"
   ]
  },
  {
   "cell_type": "code",
   "execution_count": 277,
   "metadata": {},
   "outputs": [
    {
     "ename": "ValueError",
     "evalue": "cannot insert level_0, already exists",
     "output_type": "error",
     "traceback": [
      "\u001b[0;31m---------------------------------------------------------------------------\u001b[0m",
      "\u001b[0;31mValueError\u001b[0m                                Traceback (most recent call last)",
      "\u001b[0;32m<ipython-input-277-e96945d000d5>\u001b[0m in \u001b[0;36m<module>\u001b[0;34m\u001b[0m\n\u001b[0;32m----> 1\u001b[0;31m \u001b[0mcorrected_scores_continuous\u001b[0m \u001b[0;34m=\u001b[0m \u001b[0mcorrected_scores_continuous\u001b[0m\u001b[0;34m.\u001b[0m\u001b[0mreset_index\u001b[0m\u001b[0;34m(\u001b[0m\u001b[0;34m)\u001b[0m\u001b[0;34m\u001b[0m\u001b[0;34m\u001b[0m\u001b[0m\n\u001b[0m",
      "\u001b[0;32m/anaconda3/lib/python3.7/site-packages/pandas/core/frame.py\u001b[0m in \u001b[0;36mreset_index\u001b[0;34m(self, level, drop, inplace, col_level, col_fill)\u001b[0m\n\u001b[1;32m   4429\u001b[0m                 \u001b[0;31m# to ndarray and maybe infer different dtype\u001b[0m\u001b[0;34m\u001b[0m\u001b[0;34m\u001b[0m\u001b[0;34m\u001b[0m\u001b[0m\n\u001b[1;32m   4430\u001b[0m                 \u001b[0mlevel_values\u001b[0m \u001b[0;34m=\u001b[0m \u001b[0m_maybe_casted_values\u001b[0m\u001b[0;34m(\u001b[0m\u001b[0mlev\u001b[0m\u001b[0;34m,\u001b[0m \u001b[0mlab\u001b[0m\u001b[0;34m)\u001b[0m\u001b[0;34m\u001b[0m\u001b[0;34m\u001b[0m\u001b[0m\n\u001b[0;32m-> 4431\u001b[0;31m                 \u001b[0mnew_obj\u001b[0m\u001b[0;34m.\u001b[0m\u001b[0minsert\u001b[0m\u001b[0;34m(\u001b[0m\u001b[0;36m0\u001b[0m\u001b[0;34m,\u001b[0m \u001b[0mname\u001b[0m\u001b[0;34m,\u001b[0m \u001b[0mlevel_values\u001b[0m\u001b[0;34m)\u001b[0m\u001b[0;34m\u001b[0m\u001b[0;34m\u001b[0m\u001b[0m\n\u001b[0m\u001b[1;32m   4432\u001b[0m \u001b[0;34m\u001b[0m\u001b[0m\n\u001b[1;32m   4433\u001b[0m         \u001b[0mnew_obj\u001b[0m\u001b[0;34m.\u001b[0m\u001b[0mindex\u001b[0m \u001b[0;34m=\u001b[0m \u001b[0mnew_index\u001b[0m\u001b[0;34m\u001b[0m\u001b[0;34m\u001b[0m\u001b[0m\n",
      "\u001b[0;32m/anaconda3/lib/python3.7/site-packages/pandas/core/frame.py\u001b[0m in \u001b[0;36minsert\u001b[0;34m(self, loc, column, value, allow_duplicates)\u001b[0m\n\u001b[1;32m   3471\u001b[0m         \u001b[0mvalue\u001b[0m \u001b[0;34m=\u001b[0m \u001b[0mself\u001b[0m\u001b[0;34m.\u001b[0m\u001b[0m_sanitize_column\u001b[0m\u001b[0;34m(\u001b[0m\u001b[0mcolumn\u001b[0m\u001b[0;34m,\u001b[0m \u001b[0mvalue\u001b[0m\u001b[0;34m,\u001b[0m \u001b[0mbroadcast\u001b[0m\u001b[0;34m=\u001b[0m\u001b[0;32mFalse\u001b[0m\u001b[0;34m)\u001b[0m\u001b[0;34m\u001b[0m\u001b[0;34m\u001b[0m\u001b[0m\n\u001b[1;32m   3472\u001b[0m         self._data.insert(loc, column, value,\n\u001b[0;32m-> 3473\u001b[0;31m                           allow_duplicates=allow_duplicates)\n\u001b[0m\u001b[1;32m   3474\u001b[0m \u001b[0;34m\u001b[0m\u001b[0m\n\u001b[1;32m   3475\u001b[0m     \u001b[0;32mdef\u001b[0m \u001b[0massign\u001b[0m\u001b[0;34m(\u001b[0m\u001b[0mself\u001b[0m\u001b[0;34m,\u001b[0m \u001b[0;34m**\u001b[0m\u001b[0mkwargs\u001b[0m\u001b[0;34m)\u001b[0m\u001b[0;34m:\u001b[0m\u001b[0;34m\u001b[0m\u001b[0;34m\u001b[0m\u001b[0m\n",
      "\u001b[0;32m/anaconda3/lib/python3.7/site-packages/pandas/core/internals/managers.py\u001b[0m in \u001b[0;36minsert\u001b[0;34m(self, loc, item, value, allow_duplicates)\u001b[0m\n\u001b[1;32m   1147\u001b[0m         \u001b[0;32mif\u001b[0m \u001b[0;32mnot\u001b[0m \u001b[0mallow_duplicates\u001b[0m \u001b[0;32mand\u001b[0m \u001b[0mitem\u001b[0m \u001b[0;32min\u001b[0m \u001b[0mself\u001b[0m\u001b[0;34m.\u001b[0m\u001b[0mitems\u001b[0m\u001b[0;34m:\u001b[0m\u001b[0;34m\u001b[0m\u001b[0;34m\u001b[0m\u001b[0m\n\u001b[1;32m   1148\u001b[0m             \u001b[0;31m# Should this be a different kind of error??\u001b[0m\u001b[0;34m\u001b[0m\u001b[0;34m\u001b[0m\u001b[0;34m\u001b[0m\u001b[0m\n\u001b[0;32m-> 1149\u001b[0;31m             \u001b[0;32mraise\u001b[0m \u001b[0mValueError\u001b[0m\u001b[0;34m(\u001b[0m\u001b[0;34m'cannot insert {}, already exists'\u001b[0m\u001b[0;34m.\u001b[0m\u001b[0mformat\u001b[0m\u001b[0;34m(\u001b[0m\u001b[0mitem\u001b[0m\u001b[0;34m)\u001b[0m\u001b[0;34m)\u001b[0m\u001b[0;34m\u001b[0m\u001b[0;34m\u001b[0m\u001b[0m\n\u001b[0m\u001b[1;32m   1150\u001b[0m \u001b[0;34m\u001b[0m\u001b[0m\n\u001b[1;32m   1151\u001b[0m         \u001b[0;32mif\u001b[0m \u001b[0;32mnot\u001b[0m \u001b[0misinstance\u001b[0m\u001b[0;34m(\u001b[0m\u001b[0mloc\u001b[0m\u001b[0;34m,\u001b[0m \u001b[0mint\u001b[0m\u001b[0;34m)\u001b[0m\u001b[0;34m:\u001b[0m\u001b[0;34m\u001b[0m\u001b[0;34m\u001b[0m\u001b[0m\n",
      "\u001b[0;31mValueError\u001b[0m: cannot insert level_0, already exists"
     ]
    }
   ],
   "source": [
    "corrected_scores_continuous = corrected_scores_continuous.reset_index()\n"
   ]
  },
  {
   "cell_type": "code",
   "execution_count": 241,
   "metadata": {},
   "outputs": [
    {
     "data": {
      "text/plain": [
       "score_continuous_ARV dispensation on time            -0.673002\n",
       "score_continuous_12 Months retention on first line    1.339568\n",
       "score_continuous_Months without stockout             -0.271655\n",
       "score_continuous_Correct prescription                 0.000000\n",
       "score_continuous_Virus suppression                   -1.022155\n",
       "Name: 0, dtype: float64"
      ]
     },
     "execution_count": 241,
     "metadata": {},
     "output_type": "execute_result"
    }
   ],
   "source": [
    "corrected_scores_continuous.iloc[0,2:7] "
   ]
  },
  {
   "cell_type": "code",
   "execution_count": 247,
   "metadata": {},
   "outputs": [
    {
     "data": {
      "text/plain": [
       "'score_continuous_12 Months retention on first line'"
      ]
     },
     "execution_count": 247,
     "metadata": {},
     "output_type": "execute_result"
    }
   ],
   "source": [
    "corrected_scores_continuous.columns[3]"
   ]
  },
  {
   "cell_type": "code",
   "execution_count": 254,
   "metadata": {},
   "outputs": [],
   "source": [
    "weighted_zscores = pd.DataFrame()\n",
    "for j in range(2,7):\n",
    "    weighted_zscores[corrected_scores_continuous.columns[j]] = w[j-2]*corrected_scores_continuous[corrected_scores_continuous.columns[j]]"
   ]
  },
  {
   "cell_type": "code",
   "execution_count": 255,
   "metadata": {},
   "outputs": [
    {
     "data": {
      "text/html": [
       "<div>\n",
       "<style scoped>\n",
       "    .dataframe tbody tr th:only-of-type {\n",
       "        vertical-align: middle;\n",
       "    }\n",
       "\n",
       "    .dataframe tbody tr th {\n",
       "        vertical-align: top;\n",
       "    }\n",
       "\n",
       "    .dataframe thead th {\n",
       "        text-align: right;\n",
       "    }\n",
       "</style>\n",
       "<table border=\"1\" class=\"dataframe\">\n",
       "  <thead>\n",
       "    <tr style=\"text-align: right;\">\n",
       "      <th></th>\n",
       "      <th>score_continuous_ARV dispensation on time</th>\n",
       "      <th>score_continuous_12 Months retention on first line</th>\n",
       "      <th>score_continuous_Months without stockout</th>\n",
       "      <th>score_continuous_Correct prescription</th>\n",
       "      <th>score_continuous_Virus suppression</th>\n",
       "    </tr>\n",
       "  </thead>\n",
       "  <tbody>\n",
       "    <tr>\n",
       "      <th>0</th>\n",
       "      <td>-0.650518</td>\n",
       "      <td>1.258413</td>\n",
       "      <td>-0.199822</td>\n",
       "      <td>0.000000</td>\n",
       "      <td>-0.855402</td>\n",
       "    </tr>\n",
       "    <tr>\n",
       "      <th>1</th>\n",
       "      <td>-0.308996</td>\n",
       "      <td>1.258413</td>\n",
       "      <td>0.000000</td>\n",
       "      <td>0.000000</td>\n",
       "      <td>-0.855402</td>\n",
       "    </tr>\n",
       "    <tr>\n",
       "      <th>2</th>\n",
       "      <td>-0.081315</td>\n",
       "      <td>0.694297</td>\n",
       "      <td>0.000000</td>\n",
       "      <td>0.000000</td>\n",
       "      <td>-0.855402</td>\n",
       "    </tr>\n",
       "    <tr>\n",
       "      <th>3</th>\n",
       "      <td>-0.048789</td>\n",
       "      <td>0.954658</td>\n",
       "      <td>-0.424622</td>\n",
       "      <td>-4.036735</td>\n",
       "      <td>-0.855402</td>\n",
       "    </tr>\n",
       "    <tr>\n",
       "      <th>4</th>\n",
       "      <td>-0.097578</td>\n",
       "      <td>0.867871</td>\n",
       "      <td>0.000000</td>\n",
       "      <td>0.000000</td>\n",
       "      <td>-0.855402</td>\n",
       "    </tr>\n",
       "  </tbody>\n",
       "</table>\n",
       "</div>"
      ],
      "text/plain": [
       "   score_continuous_ARV dispensation on time  \\\n",
       "0                                  -0.650518   \n",
       "1                                  -0.308996   \n",
       "2                                  -0.081315   \n",
       "3                                  -0.048789   \n",
       "4                                  -0.097578   \n",
       "\n",
       "   score_continuous_12 Months retention on first line  \\\n",
       "0                                           1.258413    \n",
       "1                                           1.258413    \n",
       "2                                           0.694297    \n",
       "3                                           0.954658    \n",
       "4                                           0.867871    \n",
       "\n",
       "   score_continuous_Months without stockout  \\\n",
       "0                                 -0.199822   \n",
       "1                                  0.000000   \n",
       "2                                  0.000000   \n",
       "3                                 -0.424622   \n",
       "4                                  0.000000   \n",
       "\n",
       "   score_continuous_Correct prescription  score_continuous_Virus suppression  \n",
       "0                               0.000000                           -0.855402  \n",
       "1                               0.000000                           -0.855402  \n",
       "2                               0.000000                           -0.855402  \n",
       "3                              -4.036735                           -0.855402  \n",
       "4                               0.000000                           -0.855402  "
      ]
     },
     "execution_count": 255,
     "metadata": {},
     "output_type": "execute_result"
    }
   ],
   "source": [
    "weighted_zscores.head()"
   ]
  },
  {
   "cell_type": "code",
   "execution_count": 256,
   "metadata": {},
   "outputs": [
    {
     "name": "stdout",
     "output_type": "stream",
     "text": [
      "[0.20318930538437652, 0.40301163318239563, -0.16110465894854986, -4.362100487849298, 0.012469584784048693, 0.012469584784048693, -0.8289429942505091, -9.023632975595863, -0.2819721789872929, -4.056616814700935, -0.481794506785312, -0.36875930085359215, -0.10839793525469421, -0.7250103955164807, -0.05717206021452148, -0.10839793525469421, -0.06500437432154471, 0.44640519411554536, -3.1552603633358753, -0.3780724636142981, -0.768614512012645, 0.44640519411554536, 0.44640519411554536, 0.3596180722492459, 0.40301163318239563, -0.6894491486903547, -0.5685816286516112, -2.00056913944555, -0.3346789026811484, 0.021782747544754733, -0.2819721789872929, -1.4629114869430393, -1.2025501213441414, 0.44640519411554536, -0.8120080729457947, -0.5685816286516112, -1.8873233779508154, 0.44640519411554536, 0.44640519411554536, 0.44640519411554536, -1.817681732952245, -2.8758515610895365, -3.4058874550480382, -0.2912853417479988, -0.8816497179443648, -2.311735268958591, -2.311735268958591, 0.40301163318239563, -0.17803958025326427, 0.055863145717198415, -3.3531807313541826, 0.44640519411554536, 0.44640519411554536, -0.8120080729457947, -1.2025501213441414, -1.4195179260098898, -0.768614512012645, -0.8120080729457947, -1.1157629994778422, -1.3496657254483049, 0.14265026758349764, 1.1019845001964705, 0.3162245113160964, 0.40301163318239563, 0.8244776577298435, -0.6818273901463456, -0.2819721789872929, -0.030923976149100807, 0.16635776546758207, 1.0848390233287413, 0.44640519411554536, -0.11771109801540025, -0.07431753708225053, -1.3761243650767403, -0.2478917808148492, -0.20301737122801677, -0.2819721789872929, -0.16110465894854986, 0.18604382851664747, -0.11771109801540025, -0.5516467073468967, 0.44640519411554536, -0.8120080729457947, 0.44640519411554536, -1.0723694385446925, -2.1138149009402842, 0.3162245113160964, -0.20449821988169947, -1.506305047876189, 0.14265026758349764, -0.638433829213196, 0.45059485577991765, 0.40301163318239563, 0.3162245113160964, 0.3162245113160964, -1.5496986088093387, -0.07431753708225053, -1.3155853272758613, -2.3307827056060324, 0.44640519411554536, -2.4292130208513596, -0.5685816286516112, -1.3496657254483049, -2.0780430985511433, -0.3547702460092057, -0.7252209510794954, -0.1439591820808207, -2.9457037616511217, -0.768614512012645, 0.09925670665034814, -1.8441403725806804, -5.088923168680169, -0.030923976149100807, -5.535418878441985, -2.8758515610895365, -0.21603396523378687, -0.022993439049513786, -0.8120080729457947, -1.2025501213441414, -1.4195179260098898, -0.768614512012645]\n"
     ]
    }
   ],
   "source": [
    "numerator = []\n",
    "for i in range(len(weighted_zscores)):\n",
    "    numerator.append(np.nansum(weighted_zscores.iloc[i,1:6]))\n"
   ]
  },
  {
   "cell_type": "code",
   "execution_count": 261,
   "metadata": {},
   "outputs": [
    {
     "data": {
      "text/plain": [
       "121"
      ]
     },
     "execution_count": 261,
     "metadata": {},
     "output_type": "execute_result"
    }
   ],
   "source": [
    "agg_zscore = numerator/np.sqrt(denom)\n",
    "len(agg_zscore)"
   ]
  },
  {
   "cell_type": "markdown",
   "metadata": {},
   "source": [
    "We have obtained an aggregated z-score for each fosa."
   ]
  },
  {
   "cell_type": "code",
   "execution_count": 259,
   "metadata": {},
   "outputs": [
    {
     "data": {
      "text/plain": [
       "(array([ 1.,  0.,  0.,  0.,  0.,  0.,  0.,  0.,  0.,  0.,  0.,  0.,  0.,\n",
       "         0.,  0.,  0.,  0.,  1.,  0.,  1.,  0.,  0.,  0.,  1.,  1.,  0.,\n",
       "         0.,  1.,  2.,  0.,  3.,  0.,  1.,  3.,  3.,  3.,  1.,  7.,  4.,\n",
       "         2., 13.,  7.,  5., 15., 13.,  6., 24.,  0.,  1.,  2.]),\n",
       " array([-4.2815004 , -4.18541308, -4.08932576, -3.99323844, -3.89715112,\n",
       "        -3.8010638 , -3.70497648, -3.60888916, -3.51280184, -3.41671452,\n",
       "        -3.3206272 , -3.22453988, -3.12845256, -3.03236524, -2.93627792,\n",
       "        -2.8401906 , -2.74410328, -2.64801596, -2.55192864, -2.45584133,\n",
       "        -2.35975401, -2.26366669, -2.16757937, -2.07149205, -1.97540473,\n",
       "        -1.87931741, -1.78323009, -1.68714277, -1.59105545, -1.49496813,\n",
       "        -1.39888081, -1.30279349, -1.20670617, -1.11061885, -1.01453153,\n",
       "        -0.91844421, -0.82235689, -0.72626957, -0.63018226, -0.53409494,\n",
       "        -0.43800762, -0.3419203 , -0.24583298, -0.14974566, -0.05365834,\n",
       "         0.04242898,  0.1385163 ,  0.23460362,  0.33069094,  0.42677826,\n",
       "         0.52286558]),\n",
       " <a list of 50 Patch objects>)"
      ]
     },
     "execution_count": 259,
     "metadata": {},
     "output_type": "execute_result"
    },
    {
     "data": {
      "image/png": "[encoded data removed]",
      "text/plain": [
       "<Figure size 576x432 with 1 Axes>"
      ]
     },
     "metadata": {
      "needs_background": "light"
     },
     "output_type": "display_data"
    }
   ],
   "source": [
    "fig = plt.figure(figsize=(8,6))\n",
    "ax1 = fig.add_subplot(1,1,1)\n",
    "ax1.hist(agg_zscore,bins=50,color='k',alpha=0.5)"
   ]
  },
  {
   "cell_type": "code",
   "execution_count": 265,
   "metadata": {},
   "outputs": [],
   "source": [
    "iap_data_2016_score[\"Aggregated_zscore\"] = pd.Series(agg_zscore, index = iap_data_2016_score.index)"
   ]
  },
  {
   "cell_type": "code",
   "execution_count": 275,
   "metadata": {},
   "outputs": [
    {
     "data": {
      "text/html": [
       "<div>\n",
       "<style scoped>\n",
       "    .dataframe tbody tr th:only-of-type {\n",
       "        vertical-align: middle;\n",
       "    }\n",
       "\n",
       "    .dataframe tbody tr th {\n",
       "        vertical-align: top;\n",
       "    }\n",
       "\n",
       "    .dataframe thead th {\n",
       "        text-align: right;\n",
       "    }\n",
       "</style>\n",
       "<table border=\"1\" class=\"dataframe\">\n",
       "  <thead>\n",
       "    <tr style=\"text-align: right;\">\n",
       "      <th></th>\n",
       "      <th>province</th>\n",
       "      <th>fosa</th>\n",
       "      <th>annee</th>\n",
       "      <th>ARV dispensation on time</th>\n",
       "      <th>12 Months retention on first line</th>\n",
       "      <th>Months without stockout</th>\n",
       "      <th>Correct prescription</th>\n",
       "      <th>Virus suppression</th>\n",
       "      <th>On time consultation</th>\n",
       "      <th>12 Month LTFU</th>\n",
       "      <th>...</th>\n",
       "      <th>score_normal_12 Months retention on first line</th>\n",
       "      <th>score_continuous_Months without stockout</th>\n",
       "      <th>score_normal_Months without stockout</th>\n",
       "      <th>score_continuous_Correct prescription</th>\n",
       "      <th>score_normal_Correct prescription</th>\n",
       "      <th>score_continuous_Virus suppression</th>\n",
       "      <th>score_normal_Virus suppression</th>\n",
       "      <th>Aggregated_zscore</th>\n",
       "      <th>Z&lt;-1</th>\n",
       "      <th>Z_lessThan_1</th>\n",
       "    </tr>\n",
       "  </thead>\n",
       "  <tbody>\n",
       "    <tr>\n",
       "      <th>2</th>\n",
       "      <td>NORD KIVU</td>\n",
       "      <td>HP GOMA</td>\n",
       "      <td>2016</td>\n",
       "      <td>50.0</td>\n",
       "      <td>99.0</td>\n",
       "      <td>92.0</td>\n",
       "      <td>100.0</td>\n",
       "      <td>0.0</td>\n",
       "      <td>NaN</td>\n",
       "      <td>NaN</td>\n",
       "      <td>...</td>\n",
       "      <td>1.650891</td>\n",
       "      <td>-0.32</td>\n",
       "      <td>-0.308093</td>\n",
       "      <td>0.0</td>\n",
       "      <td>0.000000</td>\n",
       "      <td>-14.084507</td>\n",
       "      <td>-7.439093</td>\n",
       "      <td>0.096409</td>\n",
       "      <td>False</td>\n",
       "      <td>0</td>\n",
       "    </tr>\n",
       "    <tr>\n",
       "      <th>5</th>\n",
       "      <td>NORD KIVU</td>\n",
       "      <td>HGR VIRUNGA</td>\n",
       "      <td>2016</td>\n",
       "      <td>71.0</td>\n",
       "      <td>99.0</td>\n",
       "      <td>100.0</td>\n",
       "      <td>100.0</td>\n",
       "      <td>0.0</td>\n",
       "      <td>NaN</td>\n",
       "      <td>NaN</td>\n",
       "      <td>...</td>\n",
       "      <td>1.650891</td>\n",
       "      <td>0.00</td>\n",
       "      <td>0.000000</td>\n",
       "      <td>0.0</td>\n",
       "      <td>0.000000</td>\n",
       "      <td>-14.084507</td>\n",
       "      <td>-7.439093</td>\n",
       "      <td>0.191219</td>\n",
       "      <td>False</td>\n",
       "      <td>0</td>\n",
       "    </tr>\n",
       "    <tr>\n",
       "      <th>8</th>\n",
       "      <td>NORD KIVU</td>\n",
       "      <td>CSR KAHEMBE</td>\n",
       "      <td>2016</td>\n",
       "      <td>85.0</td>\n",
       "      <td>86.0</td>\n",
       "      <td>100.0</td>\n",
       "      <td>100.0</td>\n",
       "      <td>0.0</td>\n",
       "      <td>NaN</td>\n",
       "      <td>NaN</td>\n",
       "      <td>...</td>\n",
       "      <td>0.910837</td>\n",
       "      <td>0.00</td>\n",
       "      <td>0.000000</td>\n",
       "      <td>0.0</td>\n",
       "      <td>0.000000</td>\n",
       "      <td>-14.084507</td>\n",
       "      <td>-7.439093</td>\n",
       "      <td>-0.076440</td>\n",
       "      <td>False</td>\n",
       "      <td>0</td>\n",
       "    </tr>\n",
       "    <tr>\n",
       "      <th>29</th>\n",
       "      <td>NORD KIVU</td>\n",
       "      <td>HEAL AFRICA</td>\n",
       "      <td>2016</td>\n",
       "      <td>87.0</td>\n",
       "      <td>92.0</td>\n",
       "      <td>83.0</td>\n",
       "      <td>86.0</td>\n",
       "      <td>0.0</td>\n",
       "      <td>NaN</td>\n",
       "      <td>NaN</td>\n",
       "      <td>...</td>\n",
       "      <td>1.252400</td>\n",
       "      <td>-0.68</td>\n",
       "      <td>-0.654697</td>\n",
       "      <td>-28.0</td>\n",
       "      <td>-4.172464</td>\n",
       "      <td>-14.084507</td>\n",
       "      <td>-7.439093</td>\n",
       "      <td>-2.069713</td>\n",
       "      <td>True</td>\n",
       "      <td>1</td>\n",
       "    </tr>\n",
       "    <tr>\n",
       "      <th>32</th>\n",
       "      <td>NORD KIVU</td>\n",
       "      <td>CS MURARA</td>\n",
       "      <td>2016</td>\n",
       "      <td>84.0</td>\n",
       "      <td>90.0</td>\n",
       "      <td>100.0</td>\n",
       "      <td>100.0</td>\n",
       "      <td>0.0</td>\n",
       "      <td>NaN</td>\n",
       "      <td>NaN</td>\n",
       "      <td>...</td>\n",
       "      <td>1.138546</td>\n",
       "      <td>0.00</td>\n",
       "      <td>0.000000</td>\n",
       "      <td>0.0</td>\n",
       "      <td>0.000000</td>\n",
       "      <td>-14.084507</td>\n",
       "      <td>-7.439093</td>\n",
       "      <td>0.005917</td>\n",
       "      <td>False</td>\n",
       "      <td>0</td>\n",
       "    </tr>\n",
       "  </tbody>\n",
       "</table>\n",
       "<p>5 rows × 23 columns</p>\n",
       "</div>"
      ],
      "text/plain": [
       "     province          fosa  annee  ARV dispensation on time  \\\n",
       "2   NORD KIVU       HP GOMA   2016                      50.0   \n",
       "5   NORD KIVU  HGR VIRUNGA    2016                      71.0   \n",
       "8   NORD KIVU  CSR KAHEMBE    2016                      85.0   \n",
       "29  NORD KIVU   HEAL AFRICA   2016                      87.0   \n",
       "32  NORD KIVU     CS MURARA   2016                      84.0   \n",
       "\n",
       "    12 Months retention on first line  Months without stockout  \\\n",
       "2                                99.0                     92.0   \n",
       "5                                99.0                    100.0   \n",
       "8                                86.0                    100.0   \n",
       "29                               92.0                     83.0   \n",
       "32                               90.0                    100.0   \n",
       "\n",
       "    Correct prescription  Virus suppression On time consultation  \\\n",
       "2                  100.0                0.0                  NaN   \n",
       "5                  100.0                0.0                  NaN   \n",
       "8                  100.0                0.0                  NaN   \n",
       "29                  86.0                0.0                  NaN   \n",
       "32                 100.0                0.0                  NaN   \n",
       "\n",
       "    12 Month LTFU  ...  score_normal_12 Months retention on first line  \\\n",
       "2             NaN  ...                                        1.650891   \n",
       "5             NaN  ...                                        1.650891   \n",
       "8             NaN  ...                                        0.910837   \n",
       "29            NaN  ...                                        1.252400   \n",
       "32            NaN  ...                                        1.138546   \n",
       "\n",
       "    score_continuous_Months without stockout  \\\n",
       "2                                      -0.32   \n",
       "5                                       0.00   \n",
       "8                                       0.00   \n",
       "29                                     -0.68   \n",
       "32                                      0.00   \n",
       "\n",
       "    score_normal_Months without stockout  \\\n",
       "2                              -0.308093   \n",
       "5                               0.000000   \n",
       "8                               0.000000   \n",
       "29                             -0.654697   \n",
       "32                              0.000000   \n",
       "\n",
       "    score_continuous_Correct prescription  score_normal_Correct prescription  \\\n",
       "2                                     0.0                           0.000000   \n",
       "5                                     0.0                           0.000000   \n",
       "8                                     0.0                           0.000000   \n",
       "29                                  -28.0                          -4.172464   \n",
       "32                                    0.0                           0.000000   \n",
       "\n",
       "    score_continuous_Virus suppression  score_normal_Virus suppression  \\\n",
       "2                           -14.084507                       -7.439093   \n",
       "5                           -14.084507                       -7.439093   \n",
       "8                           -14.084507                       -7.439093   \n",
       "29                          -14.084507                       -7.439093   \n",
       "32                          -14.084507                       -7.439093   \n",
       "\n",
       "    Aggregated_zscore   Z<-1  Z_lessThan_1  \n",
       "2            0.096409  False             0  \n",
       "5            0.191219  False             0  \n",
       "8           -0.076440  False             0  \n",
       "29          -2.069713   True             1  \n",
       "32           0.005917  False             0  \n",
       "\n",
       "[5 rows x 23 columns]"
      ]
     },
     "execution_count": 275,
     "metadata": {},
     "output_type": "execute_result"
    }
   ],
   "source": [
    "iap_data_2016_score.head()"
   ]
  },
  {
   "cell_type": "code",
   "execution_count": 272,
   "metadata": {},
   "outputs": [],
   "source": [
    "iap_data_2016_score[\"Z_lessThan_1\"] = pd.to_numeric(iap_data_2016_score.Aggregated_zscore < -1, errors = \"coerce\")"
   ]
  },
  {
   "cell_type": "code",
   "execution_count": 274,
   "metadata": {},
   "outputs": [],
   "source": [
    "iap_data_2016_score[\"Z_lessThan_1\"] = iap_data_2016_score.Z_lessThan_1.astype(int)"
   ]
  },
  {
   "cell_type": "code",
   "execution_count": 276,
   "metadata": {},
   "outputs": [
    {
     "data": {
      "text/plain": [
       "16"
      ]
     },
     "execution_count": 276,
     "metadata": {},
     "output_type": "execute_result"
    }
   ],
   "source": [
    "iap_data_2016_score.Z_lessThan_1.sum()"
   ]
  },
  {
   "cell_type": "markdown",
   "metadata": {},
   "source": [
    "We dichotomize the aggregated z-scores into whether or not $Z < -1$.\n",
    "We are now switching back to the routinely collected data to see how a classification model would perform in terms of predicting this binary outcome."
   ]
  },
  {
   "cell_type": "code",
   "execution_count": 347,
   "metadata": {},
   "outputs": [],
   "source": [
    "useful_variables = full_data[~(full_data.population == \"vih_positive\") &  \n",
    "                             ~(full_data.action.str.contains(\"tb|cv|_ist|dead|cotrim|nut|treatment_supplement|no_treatment_response|counciled_tested\")) &\n",
    "                             ~(full_data.sub_population.str.contains(\"soutien\"))]"
   ]
  },
  {
   "cell_type": "code",
   "execution_count": 348,
   "metadata": {},
   "outputs": [
    {
     "data": {
      "text/plain": [
       "704"
      ]
     },
     "execution_count": 348,
     "metadata": {},
     "output_type": "execute_result"
    }
   ],
   "source": [
    "len(useful_variables)"
   ]
  },
  {
   "cell_type": "code",
   "execution_count": 349,
   "metadata": {},
   "outputs": [],
   "source": [
    "treat_scheme = [\"azt_3tc_lpv_r\",\"tdf_ftc_nvp\",\"abc_3tc_nvp\",\"abc_3tc_efv\",\"azt_3tc_efv\",\"tdf_3tc_efv\",\n",
    "                \"tdf_3tc_nvp\",\"tdf_3tc_lpv_r\",\"tdf_ftc_efv\",\"azt_3tc_nvp\",\"abc_3tc_lpv_r\",\"tdf_ftc_lpv_r\"]\n",
    "\n",
    "treatments = useful_variables[useful_variables.sub_population.isin(treat_scheme)]\n",
    "treatments_fu = treatments.groupby([\"province\",\"fosa\",\"monthly\",\"sub_population\"]).value.sum().reset_index()\n",
    "treatments_fu[\"line\"] = 'first_line'\n",
    "treatments_fu.loc[treatments_fu.sub_population.str.contains(\"lpv\"),\"line\"] = \"second_line\"\n",
    "line_fu = treatments_fu.groupby([\"province\",\"fosa\",\"line\"]).value.mean().reset_index()\n",
    "line_fu = line_fu.set_index([\"province\",\"fosa\"]).pivot(columns = \"line\")[\"value\"].reset_index()"
   ]
  },
  {
   "cell_type": "code",
   "execution_count": 350,
   "metadata": {},
   "outputs": [
    {
     "data": {
      "text/plain": [
       "4"
      ]
     },
     "execution_count": 350,
     "metadata": {},
     "output_type": "execute_result"
    }
   ],
   "source": [
    "len(line_fu)"
   ]
  },
  {
   "cell_type": "code",
   "execution_count": 351,
   "metadata": {
    "scrolled": true
   },
   "outputs": [
    {
     "name": "stderr",
     "output_type": "stream",
     "text": [
      "/anaconda3/lib/python3.7/site-packages/pandas/core/generic.py:5096: SettingWithCopyWarning: \n",
      "A value is trying to be set on a copy of a slice from a DataFrame.\n",
      "Try using .loc[row_indexer,col_indexer] = value instead\n",
      "\n",
      "See the caveats in the documentation: http://pandas.pydata.org/pandas-docs/stable/indexing.html#indexing-view-versus-copy\n",
      "  self[name] = value\n"
     ]
    }
   ],
   "source": [
    "pdv_data = useful_variables[(useful_variables.action == \"pdv\")]\n",
    "pdv_data.value = pd.to_numeric(pdv_data.value)\n",
    "pdv_data = pdv_data.groupby([\"province\",\"fosa\"]).value.mean().reset_index()\n",
    "pdv_data.columns = [\"province\", \"fosa\", \"n_pdv\"]"
   ]
  },
  {
   "cell_type": "code",
   "execution_count": 352,
   "metadata": {},
   "outputs": [
    {
     "name": "stdout",
     "output_type": "stream",
     "text": [
      "    province         fosa     n_pdv\n",
      "0  nord kivu     hgr beni  2.666667\n",
      "1  nord kivu  hgr oicha    3.750000\n"
     ]
    }
   ],
   "source": [
    "print(pdv_data)"
   ]
  },
  {
   "cell_type": "code",
   "execution_count": 353,
   "metadata": {},
   "outputs": [],
   "source": [
    "pvvih_data = useful_variables[(useful_variables.population == \"pvvih\") & (useful_variables.action == \"enrolled_hiv_services\")]\n",
    "pvvih_data.value = pd.to_numeric(pvvih_data.value)\n",
    "pvvih_data = pvvih_data.groupby([\"province\",\"fosa\"]).value.mean().reset_index()\n",
    "pvvih_data.columns = [\"province\", \"fosa\", \"n_pvvih\"]"
   ]
  },
  {
   "cell_type": "code",
   "execution_count": 354,
   "metadata": {},
   "outputs": [
    {
     "data": {
      "text/plain": [
       "2"
      ]
     },
     "execution_count": 354,
     "metadata": {},
     "output_type": "execute_result"
    }
   ],
   "source": [
    "len(pvvih_data)"
   ]
  },
  {
   "cell_type": "code",
   "execution_count": 355,
   "metadata": {},
   "outputs": [],
   "source": [
    "stock_out_data = useful_variables[useful_variables.action == \"rupture_stock_mois\"]\n",
    "def stock_out_prob(data):    \n",
    "    return sum(data == \"true\") / len(data)\n",
    "\n",
    "\n",
    "stock_out_data = stock_out_data.groupby([\"province\",\"fosa\"]).value.apply(stock_out_prob).reset_index()\n",
    "stock_out_data.columns = [\"province\", \"fosa\", \"stockout_perc\"]"
   ]
  },
  {
   "cell_type": "code",
   "execution_count": 356,
   "metadata": {},
   "outputs": [
    {
     "data": {
      "text/plain": [
       "4"
      ]
     },
     "execution_count": 356,
     "metadata": {},
     "output_type": "execute_result"
    }
   ],
   "source": [
    "len(stock_out_data)"
   ]
  },
  {
   "cell_type": "code",
   "execution_count": 357,
   "metadata": {},
   "outputs": [],
   "source": [
    "cmm_data = useful_variables[useful_variables.action == \"cmm_mois\"]\n",
    "\n",
    "cmm_data = cmm_data.groupby([\"province\",\"fosa\",\"monthly\"]).value.sum().reset_index().groupby([\"province\",\"fosa\"]).value.sum().reset_index()\n",
    "cmm_data.columns = [\"province\", \"fosa\", \"cmm\"]"
   ]
  },
  {
   "cell_type": "code",
   "execution_count": 358,
   "metadata": {},
   "outputs": [
    {
     "data": {
      "text/plain": [
       "4"
      ]
     },
     "execution_count": 358,
     "metadata": {},
     "output_type": "execute_result"
    }
   ],
   "source": [
    "len(cmm_data)"
   ]
  },
  {
   "cell_type": "code",
   "execution_count": 284,
   "metadata": {},
   "outputs": [
    {
     "name": "stdout",
     "output_type": "stream",
     "text": [
      "2\n"
     ]
    }
   ],
   "source": [
    "covariables = cmm_data.merge(stock_out_data).merge(line_fu).merge(pdv_data)#.merge(pvvih_data)#.merge(pdv_data)#.merge(line_fu\n",
    "print(len(covariables))"
   ]
  },
  {
   "cell_type": "markdown",
   "metadata": {},
   "source": [
    "I'm really surprised that I end up with so few rows for the *useful covariates*\n",
    "@Grégoire, do you see anything different from what you did in your notebook?"
   ]
  }
 ],
 "metadata": {
  "kernelspec": {
   "display_name": "Python 3",
   "language": "python",
   "name": "python3"
  },
  "language_info": {
   "codemirror_mode": {
    "name": "ipython",
    "version": 3
   },
   "file_extension": ".py",
   "mimetype": "text/x-python",
   "name": "python",
   "nbconvert_exporter": "python",
   "pygments_lexer": "ipython3",
   "version": "3.7.3"
  }
 },
 "nbformat": 4,
 "nbformat_minor": 2
}
